{
 "cells": [
  {
   "cell_type": "markdown",
   "id": "3846bda9-7ade-4510-b1a9-6be160119be3",
   "metadata": {
    "jp-MarkdownHeadingCollapsed": true,
    "tags": []
   },
   "source": [
    "# Imports and Datasets Preparations"
   ]
  },
  {
   "cell_type": "code",
   "execution_count": 1,
   "id": "47dd85b9-7814-4cf0-8f14-329f212ac5f2",
   "metadata": {},
   "outputs": [],
   "source": [
    "import pandas as pd\n",
    "import numpy as np\n",
    "from sklearn.metrics import accuracy_score, confusion_matrix, classification_report, r2_score, mean_squared_error\n",
    "from pprint import pprint"
   ]
  },
  {
   "cell_type": "markdown",
   "id": "232357ef-9d87-4129-93bc-32a6f3140da3",
   "metadata": {
    "tags": []
   },
   "source": [
    "## Boston Housing Dataset for Regression"
   ]
  },
  {
   "cell_type": "code",
   "execution_count": 9,
   "id": "27f2980d-8e07-481c-a3c1-aab33a8eaf8c",
   "metadata": {},
   "outputs": [
    {
     "data": {
      "text/html": [
       "<div>\n",
       "<style scoped>\n",
       "    .dataframe tbody tr th:only-of-type {\n",
       "        vertical-align: middle;\n",
       "    }\n",
       "\n",
       "    .dataframe tbody tr th {\n",
       "        vertical-align: top;\n",
       "    }\n",
       "\n",
       "    .dataframe thead th {\n",
       "        text-align: right;\n",
       "    }\n",
       "</style>\n",
       "<table border=\"1\" class=\"dataframe\">\n",
       "  <thead>\n",
       "    <tr style=\"text-align: right;\">\n",
       "      <th></th>\n",
       "      <th>crim</th>\n",
       "      <th>zn</th>\n",
       "      <th>indus</th>\n",
       "      <th>chas</th>\n",
       "      <th>nox</th>\n",
       "      <th>rm</th>\n",
       "      <th>age</th>\n",
       "      <th>dis</th>\n",
       "      <th>rad</th>\n",
       "      <th>tax</th>\n",
       "      <th>ptratio</th>\n",
       "      <th>b</th>\n",
       "      <th>lstat</th>\n",
       "      <th>medv</th>\n",
       "    </tr>\n",
       "  </thead>\n",
       "  <tbody>\n",
       "    <tr>\n",
       "      <th>0</th>\n",
       "      <td>0.00632</td>\n",
       "      <td>18.0</td>\n",
       "      <td>2.31</td>\n",
       "      <td>0</td>\n",
       "      <td>0.538</td>\n",
       "      <td>6.575</td>\n",
       "      <td>65.2</td>\n",
       "      <td>4.0900</td>\n",
       "      <td>1</td>\n",
       "      <td>296</td>\n",
       "      <td>15.3</td>\n",
       "      <td>396.90</td>\n",
       "      <td>4.98</td>\n",
       "      <td>24.0</td>\n",
       "    </tr>\n",
       "    <tr>\n",
       "      <th>1</th>\n",
       "      <td>0.02731</td>\n",
       "      <td>0.0</td>\n",
       "      <td>7.07</td>\n",
       "      <td>0</td>\n",
       "      <td>0.469</td>\n",
       "      <td>6.421</td>\n",
       "      <td>78.9</td>\n",
       "      <td>4.9671</td>\n",
       "      <td>2</td>\n",
       "      <td>242</td>\n",
       "      <td>17.8</td>\n",
       "      <td>396.90</td>\n",
       "      <td>9.14</td>\n",
       "      <td>21.6</td>\n",
       "    </tr>\n",
       "    <tr>\n",
       "      <th>2</th>\n",
       "      <td>0.02729</td>\n",
       "      <td>0.0</td>\n",
       "      <td>7.07</td>\n",
       "      <td>0</td>\n",
       "      <td>0.469</td>\n",
       "      <td>7.185</td>\n",
       "      <td>61.1</td>\n",
       "      <td>4.9671</td>\n",
       "      <td>2</td>\n",
       "      <td>242</td>\n",
       "      <td>17.8</td>\n",
       "      <td>392.83</td>\n",
       "      <td>4.03</td>\n",
       "      <td>34.7</td>\n",
       "    </tr>\n",
       "    <tr>\n",
       "      <th>3</th>\n",
       "      <td>0.03237</td>\n",
       "      <td>0.0</td>\n",
       "      <td>2.18</td>\n",
       "      <td>0</td>\n",
       "      <td>0.458</td>\n",
       "      <td>6.998</td>\n",
       "      <td>45.8</td>\n",
       "      <td>6.0622</td>\n",
       "      <td>3</td>\n",
       "      <td>222</td>\n",
       "      <td>18.7</td>\n",
       "      <td>394.63</td>\n",
       "      <td>2.94</td>\n",
       "      <td>33.4</td>\n",
       "    </tr>\n",
       "    <tr>\n",
       "      <th>4</th>\n",
       "      <td>0.06905</td>\n",
       "      <td>0.0</td>\n",
       "      <td>2.18</td>\n",
       "      <td>0</td>\n",
       "      <td>0.458</td>\n",
       "      <td>7.147</td>\n",
       "      <td>54.2</td>\n",
       "      <td>6.0622</td>\n",
       "      <td>3</td>\n",
       "      <td>222</td>\n",
       "      <td>18.7</td>\n",
       "      <td>396.90</td>\n",
       "      <td>5.33</td>\n",
       "      <td>36.2</td>\n",
       "    </tr>\n",
       "  </tbody>\n",
       "</table>\n",
       "</div>"
      ],
      "text/plain": [
       "      crim    zn  indus  chas    nox     rm   age     dis  rad  tax  ptratio  \\\n",
       "0  0.00632  18.0   2.31     0  0.538  6.575  65.2  4.0900    1  296     15.3   \n",
       "1  0.02731   0.0   7.07     0  0.469  6.421  78.9  4.9671    2  242     17.8   \n",
       "2  0.02729   0.0   7.07     0  0.469  7.185  61.1  4.9671    2  242     17.8   \n",
       "3  0.03237   0.0   2.18     0  0.458  6.998  45.8  6.0622    3  222     18.7   \n",
       "4  0.06905   0.0   2.18     0  0.458  7.147  54.2  6.0622    3  222     18.7   \n",
       "\n",
       "        b  lstat  medv  \n",
       "0  396.90   4.98  24.0  \n",
       "1  396.90   9.14  21.6  \n",
       "2  392.83   4.03  34.7  \n",
       "3  394.63   2.94  33.4  \n",
       "4  396.90   5.33  36.2  "
      ]
     },
     "execution_count": 9,
     "metadata": {},
     "output_type": "execute_result"
    }
   ],
   "source": [
    "boston_housing = pd.read_csv('datasets/boston_housing/BostonHousing.csv')\n",
    "boston_housing.head()"
   ]
  },
  {
   "cell_type": "code",
   "execution_count": 10,
   "id": "c9959cdc-7bbb-428d-a236-d6f4e70cb05e",
   "metadata": {},
   "outputs": [
    {
     "name": "stdout",
     "output_type": "stream",
     "text": [
      "<class 'pandas.core.frame.DataFrame'>\n",
      "RangeIndex: 506 entries, 0 to 505\n",
      "Data columns (total 14 columns):\n",
      " #   Column   Non-Null Count  Dtype  \n",
      "---  ------   --------------  -----  \n",
      " 0   crim     506 non-null    float64\n",
      " 1   zn       506 non-null    float64\n",
      " 2   indus    506 non-null    float64\n",
      " 3   chas     506 non-null    int64  \n",
      " 4   nox      506 non-null    float64\n",
      " 5   rm       506 non-null    float64\n",
      " 6   age      506 non-null    float64\n",
      " 7   dis      506 non-null    float64\n",
      " 8   rad      506 non-null    int64  \n",
      " 9   tax      506 non-null    int64  \n",
      " 10  ptratio  506 non-null    float64\n",
      " 11  b        506 non-null    float64\n",
      " 12  lstat    506 non-null    float64\n",
      " 13  medv     506 non-null    float64\n",
      "dtypes: float64(11), int64(3)\n",
      "memory usage: 55.5 KB\n"
     ]
    }
   ],
   "source": [
    "boston_housing.info()"
   ]
  },
  {
   "cell_type": "code",
   "execution_count": 11,
   "id": "12293bb2-4ebb-48df-b760-582cbdc96a01",
   "metadata": {},
   "outputs": [],
   "source": [
    "training_data_reg = boston_housing.sample(frac=0.7, random_state=1234)\n",
    "data_without_train_reg = boston_housing.drop(training_data_reg.index)\n",
    "validation_data_reg = data_without_train_reg.sample(frac=0.5, random_state=27)\n",
    "test_data_reg = data_without_train_reg.drop(validation_data_reg.index)"
   ]
  },
  {
   "cell_type": "code",
   "execution_count": 12,
   "id": "e3c43cdf-31c8-4fcd-bca4-43be54973d6a",
   "metadata": {},
   "outputs": [
    {
     "name": "stdout",
     "output_type": "stream",
     "text": [
      "Dataset split:\n",
      "training data: 354\n",
      "validation data: 76\n",
      "test data: 76\n"
     ]
    }
   ],
   "source": [
    "print(f'Dataset split:\\ntraining data: {(len(training_data_reg))}\\nvalidation data: {(len(validation_data_reg))}\\ntest data: {(len(test_data_reg))}')"
   ]
  },
  {
   "cell_type": "markdown",
   "id": "5cc2a315-20f6-40d2-ad34-0dcaaab71a6c",
   "metadata": {},
   "source": [
    "### Features and Target preparation"
   ]
  },
  {
   "cell_type": "code",
   "execution_count": 13,
   "id": "360b6bf8-aa7a-4fcc-8c0b-2e443b5e516f",
   "metadata": {},
   "outputs": [
    {
     "data": {
      "text/plain": [
       "64     33.0\n",
       "100    27.5\n",
       "400     5.6\n",
       "485    21.2\n",
       "454    14.9\n",
       "Name: medv, dtype: float64"
      ]
     },
     "execution_count": 13,
     "metadata": {},
     "output_type": "execute_result"
    }
   ],
   "source": [
    "# target training and validation\n",
    "                \n",
    "yreg = training_data_reg['medv'] # Target of training set\n",
    "yreg_val = validation_data_reg['medv'] # Target of validation set\n",
    "yreg.head()"
   ]
  },
  {
   "cell_type": "code",
   "execution_count": 14,
   "id": "0c6d6b31-4607-472b-804f-5cd53bedd9b6",
   "metadata": {},
   "outputs": [
    {
     "data": {
      "text/html": [
       "<div>\n",
       "<style scoped>\n",
       "    .dataframe tbody tr th:only-of-type {\n",
       "        vertical-align: middle;\n",
       "    }\n",
       "\n",
       "    .dataframe tbody tr th {\n",
       "        vertical-align: top;\n",
       "    }\n",
       "\n",
       "    .dataframe thead th {\n",
       "        text-align: right;\n",
       "    }\n",
       "</style>\n",
       "<table border=\"1\" class=\"dataframe\">\n",
       "  <thead>\n",
       "    <tr style=\"text-align: right;\">\n",
       "      <th></th>\n",
       "      <th>crim</th>\n",
       "      <th>zn</th>\n",
       "      <th>indus</th>\n",
       "      <th>chas</th>\n",
       "      <th>nox</th>\n",
       "      <th>rm</th>\n",
       "      <th>age</th>\n",
       "      <th>dis</th>\n",
       "      <th>rad</th>\n",
       "      <th>tax</th>\n",
       "      <th>ptratio</th>\n",
       "      <th>b</th>\n",
       "      <th>lstat</th>\n",
       "    </tr>\n",
       "  </thead>\n",
       "  <tbody>\n",
       "    <tr>\n",
       "      <th>64</th>\n",
       "      <td>0.01951</td>\n",
       "      <td>17.5</td>\n",
       "      <td>1.38</td>\n",
       "      <td>0</td>\n",
       "      <td>0.4161</td>\n",
       "      <td>7.104</td>\n",
       "      <td>59.5</td>\n",
       "      <td>9.2229</td>\n",
       "      <td>3</td>\n",
       "      <td>216</td>\n",
       "      <td>18.6</td>\n",
       "      <td>393.24</td>\n",
       "      <td>8.05</td>\n",
       "    </tr>\n",
       "    <tr>\n",
       "      <th>100</th>\n",
       "      <td>0.14866</td>\n",
       "      <td>0.0</td>\n",
       "      <td>8.56</td>\n",
       "      <td>0</td>\n",
       "      <td>0.5200</td>\n",
       "      <td>6.727</td>\n",
       "      <td>79.9</td>\n",
       "      <td>2.7778</td>\n",
       "      <td>5</td>\n",
       "      <td>384</td>\n",
       "      <td>20.9</td>\n",
       "      <td>394.76</td>\n",
       "      <td>9.42</td>\n",
       "    </tr>\n",
       "    <tr>\n",
       "      <th>400</th>\n",
       "      <td>25.04610</td>\n",
       "      <td>0.0</td>\n",
       "      <td>18.10</td>\n",
       "      <td>0</td>\n",
       "      <td>0.6930</td>\n",
       "      <td>5.987</td>\n",
       "      <td>100.0</td>\n",
       "      <td>1.5888</td>\n",
       "      <td>24</td>\n",
       "      <td>666</td>\n",
       "      <td>20.2</td>\n",
       "      <td>396.90</td>\n",
       "      <td>26.77</td>\n",
       "    </tr>\n",
       "    <tr>\n",
       "      <th>485</th>\n",
       "      <td>3.67367</td>\n",
       "      <td>0.0</td>\n",
       "      <td>18.10</td>\n",
       "      <td>0</td>\n",
       "      <td>0.5830</td>\n",
       "      <td>6.312</td>\n",
       "      <td>51.9</td>\n",
       "      <td>3.9917</td>\n",
       "      <td>24</td>\n",
       "      <td>666</td>\n",
       "      <td>20.2</td>\n",
       "      <td>388.62</td>\n",
       "      <td>10.58</td>\n",
       "    </tr>\n",
       "    <tr>\n",
       "      <th>454</th>\n",
       "      <td>9.51363</td>\n",
       "      <td>0.0</td>\n",
       "      <td>18.10</td>\n",
       "      <td>0</td>\n",
       "      <td>0.7130</td>\n",
       "      <td>6.728</td>\n",
       "      <td>94.1</td>\n",
       "      <td>2.4961</td>\n",
       "      <td>24</td>\n",
       "      <td>666</td>\n",
       "      <td>20.2</td>\n",
       "      <td>6.68</td>\n",
       "      <td>18.71</td>\n",
       "    </tr>\n",
       "  </tbody>\n",
       "</table>\n",
       "</div>"
      ],
      "text/plain": [
       "         crim    zn  indus  chas     nox     rm    age     dis  rad  tax  \\\n",
       "64    0.01951  17.5   1.38     0  0.4161  7.104   59.5  9.2229    3  216   \n",
       "100   0.14866   0.0   8.56     0  0.5200  6.727   79.9  2.7778    5  384   \n",
       "400  25.04610   0.0  18.10     0  0.6930  5.987  100.0  1.5888   24  666   \n",
       "485   3.67367   0.0  18.10     0  0.5830  6.312   51.9  3.9917   24  666   \n",
       "454   9.51363   0.0  18.10     0  0.7130  6.728   94.1  2.4961   24  666   \n",
       "\n",
       "     ptratio       b  lstat  \n",
       "64      18.6  393.24   8.05  \n",
       "100     20.9  394.76   9.42  \n",
       "400     20.2  396.90  26.77  \n",
       "485     20.2  388.62  10.58  \n",
       "454     20.2    6.68  18.71  "
      ]
     },
     "execution_count": 14,
     "metadata": {},
     "output_type": "execute_result"
    }
   ],
   "source": [
    "# the features vector\n",
    "\n",
    "features_reg = ['crim', 'zn', 'indus', 'chas', 'nox', 'rm', 'age', 'dis', 'rad', 'tax', 'ptratio', 'b', 'lstat']\n",
    "\n",
    "Xreg = training_data_reg[features_reg]\n",
    "Xreg_val = validation_data_reg[features_reg]\n",
    "Xreg.head()"
   ]
  },
  {
   "cell_type": "markdown",
   "id": "1580a79b-7983-4f71-9851-a52b88c37c02",
   "metadata": {
    "jp-MarkdownHeadingCollapsed": true,
    "tags": []
   },
   "source": [
    "# KRR (Kernel Ridge Regression)"
   ]
  },
  {
   "cell_type": "markdown",
   "id": "9c85fec2-1845-44c0-907c-536f1704405a",
   "metadata": {
    "tags": []
   },
   "source": [
    "Kernel Ridge Regression models are nonparametric regression models which are able to deal with linear and nonlinear relationship. Kernel ridge regression (KRR) combines ridge regression (linear least squares with l2-norm regularization) with the kernel trick. It thus learns a linear function in the space induced by the respective kernel and the data. For non-linear kernels, this corresponds to a non-linear function in the original space.\n",
    "<br>\n",
    "The form of the model learned by KRR is identical to SVR. Different loss function are used:\n",
    "- KRR: uses squared error loss\n",
    "- SVR: uses epsilon-intensive loss\n",
    "\n",
    "KRR is done in close-form so with medium datesets is faster than SVR. On the other hand, SVR scales better on larger datasets.\n",
    "\n",
    "## Note\n",
    "Kernel Trick: Kernel methods owe their name to the use of kernel functions, which enable them to operate in a high-dimensional, implicit feature space without ever computing the coordinates of the data in that space, but rather by simply computing the inner products between the images of all pairs of data in the feature space. This operation is often computationally cheaper than the explicit computation of the coordinates."
   ]
  },
  {
   "cell_type": "code",
   "execution_count": 9,
   "id": "e58e0695-7536-4f41-be42-38c58f051e87",
   "metadata": {},
   "outputs": [
    {
     "name": "stdout",
     "output_type": "stream",
     "text": [
      "{'alpha': 1,\n",
      " 'coef0': 1,\n",
      " 'degree': 3,\n",
      " 'gamma': None,\n",
      " 'kernel': 'linear',\n",
      " 'kernel_params': None}\n"
     ]
    }
   ],
   "source": [
    "from sklearn.kernel_ridge import KernelRidge\n",
    "\n",
    "krr_model = KernelRidge()\n",
    "pprint(krr_model.get_params())"
   ]
  },
  {
   "cell_type": "markdown",
   "id": "f169d5c8-18a8-4766-b5c7-7976fbba4b1a",
   "metadata": {},
   "source": [
    "## Main Parameters"
   ]
  },
  {
   "cell_type": "markdown",
   "id": "e411ba24-7aa7-46a7-84a2-b0ab3c24c1ae",
   "metadata": {},
   "source": [
    "The main parameters for Kernel Ridge Regression are:\n",
    "- alpha: regularization coefficient. Larger the value, greater regularization\n",
    "- kernel: kernel mapping used internally (use documentation)\n",
    "- gamma: parameters for some kernels\n",
    "- degree: degree of the polynomial kernel (ignored by other kernels)"
   ]
  },
  {
   "cell_type": "code",
   "execution_count": 16,
   "id": "59d387d7-fabd-4de0-a692-0bd041c3150c",
   "metadata": {},
   "outputs": [
    {
     "data": {
      "text/plain": [
       "0.4418097164269671"
      ]
     },
     "execution_count": 16,
     "metadata": {},
     "output_type": "execute_result"
    }
   ],
   "source": [
    "krr_model.fit(Xreg, yreg)\n",
    "krr_preds = krr_model.predict(Xreg_val)\n",
    "r2_score(yreg_val, krr_preds)"
   ]
  }
 ],
 "metadata": {
  "kernelspec": {
   "display_name": "Python 3 (ipykernel)",
   "language": "python",
   "name": "python3"
  },
  "language_info": {
   "codemirror_mode": {
    "name": "ipython",
    "version": 3
   },
   "file_extension": ".py",
   "mimetype": "text/x-python",
   "name": "python",
   "nbconvert_exporter": "python",
   "pygments_lexer": "ipython3",
   "version": "3.9.13"
  }
 },
 "nbformat": 4,
 "nbformat_minor": 5
}
