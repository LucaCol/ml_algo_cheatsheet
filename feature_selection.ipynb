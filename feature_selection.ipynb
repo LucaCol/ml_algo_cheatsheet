{
 "cells": [
  {
   "cell_type": "markdown",
   "id": "0462a7e1-04aa-4b8a-a32d-fde76eb30a20",
   "metadata": {
    "tags": []
   },
   "source": [
    "# Feature Selection"
   ]
  },
  {
   "cell_type": "markdown",
   "id": "f50a2f60-9bfe-4f5a-93a2-64ae0e82108c",
   "metadata": {},
   "source": [
    "There are two main feature selections Techniques:\n",
    "- Unsupervised\n",
    "- Supervised\n",
    "\n",
    "Here we focus on Supervised techniques:\n",
    "- Intrinsic: use the algorithm itself to ranking the features (example: RandomForest)\n",
    "- Wrapper Methods: search for well-performing subsets of features (RFE)\n",
    "- Filter: Select subsets of features based on their relationship with the target"
   ]
  },
  {
   "cell_type": "markdown",
   "id": "91c90503-12df-4568-ae68-4bc7db290a7e",
   "metadata": {
    "jp-MarkdownHeadingCollapsed": true,
    "tags": []
   },
   "source": [
    "## Filter"
   ]
  },
  {
   "cell_type": "markdown",
   "id": "bc9919c3-39e6-4d27-bf1a-c1d0882d0913",
   "metadata": {},
   "source": [
    "With the filter techniques we have also to consider if our input and output features are categorical or numerical:\n",
    "- Numerical Input -> Numerical Output: \n",
    "    - Pearson’s correlation coefficient (linear correlation): f_regression()\n",
    "    - Spearman’s rank coefficient (nonlinear correlation):\n",
    "    <p>\n",
    "- Numerical Input -> Categorical Output:\n",
    "    - ANOVA correlation coefficient (linear correlation):  f_classif()\n",
    "    - Kendall’s rank coefficient (nonlinear correlation):\n",
    "    <p>\n",
    "- Categorical Input -> Numerical Output:\n",
    "    - ANOVA correlation coefficient (linear correlation): f_classif()\n",
    "    - Kendall’s rank coefficient (nonlinear correlation):\n",
    "    <p>\n",
    "- Categorical Input -> Categorical Output:\n",
    "    - Chi-Squared test (contingency tables): chi2()\n",
    "    - Mutual Information: mutual_info_classif() and mutual_info_regression()\n",
    "    <p>\n",
    "\n",
    "In sklearn we use sklearn.feature_selection.SelectKBest.\n",
    "<br>\n",
    "An example:"
   ]
  },
  {
   "cell_type": "code",
   "execution_count": 1,
   "id": "8eeb3991-9b9b-412f-8ad2-73a2d119148e",
   "metadata": {},
   "outputs": [
    {
     "name": "stdout",
     "output_type": "stream",
     "text": [
      "(100, 10)\n"
     ]
    }
   ],
   "source": [
    "# example of pearson's correlation\n",
    "from sklearn.datasets import make_regression\n",
    "from sklearn.feature_selection import SelectKBest\n",
    "from sklearn.feature_selection import f_regression\n",
    "# generate dataset\n",
    "X, y = make_regression(n_samples=100, n_features=50, n_informative=5)\n",
    "# define feature selection\n",
    "fs = SelectKBest(score_func=f_regression, k=10)\n",
    "# feature selection\n",
    "X_selected = fs.fit_transform(X, y)\n",
    "print(X_selected.shape)"
   ]
  },
  {
   "cell_type": "markdown",
   "id": "dc192827-29c1-4086-8dbe-723c839670ec",
   "metadata": {
    "jp-MarkdownHeadingCollapsed": true,
    "tags": []
   },
   "source": [
    "### Example on Boston Housing Dataset"
   ]
  },
  {
   "cell_type": "code",
   "execution_count": 2,
   "id": "e44809c3-8d51-476c-af13-120f38e97b6d",
   "metadata": {},
   "outputs": [],
   "source": [
    "import pandas as pd\n",
    "import numpy as np\n",
    "from sklearn.metrics import accuracy_score, confusion_matrix, classification_report, r2_score, mean_squared_error\n",
    "from pprint import pprint"
   ]
  },
  {
   "cell_type": "code",
   "execution_count": 3,
   "id": "6da735a5-baf4-4d73-8cfe-2e60d062ab9f",
   "metadata": {},
   "outputs": [
    {
     "data": {
      "text/html": [
       "<div>\n",
       "<style scoped>\n",
       "    .dataframe tbody tr th:only-of-type {\n",
       "        vertical-align: middle;\n",
       "    }\n",
       "\n",
       "    .dataframe tbody tr th {\n",
       "        vertical-align: top;\n",
       "    }\n",
       "\n",
       "    .dataframe thead th {\n",
       "        text-align: right;\n",
       "    }\n",
       "</style>\n",
       "<table border=\"1\" class=\"dataframe\">\n",
       "  <thead>\n",
       "    <tr style=\"text-align: right;\">\n",
       "      <th></th>\n",
       "      <th>crim</th>\n",
       "      <th>zn</th>\n",
       "      <th>indus</th>\n",
       "      <th>chas</th>\n",
       "      <th>nox</th>\n",
       "      <th>rm</th>\n",
       "      <th>age</th>\n",
       "      <th>dis</th>\n",
       "      <th>rad</th>\n",
       "      <th>tax</th>\n",
       "      <th>ptratio</th>\n",
       "      <th>b</th>\n",
       "      <th>lstat</th>\n",
       "      <th>medv</th>\n",
       "    </tr>\n",
       "  </thead>\n",
       "  <tbody>\n",
       "    <tr>\n",
       "      <th>0</th>\n",
       "      <td>0.00632</td>\n",
       "      <td>18.0</td>\n",
       "      <td>2.31</td>\n",
       "      <td>0</td>\n",
       "      <td>0.538</td>\n",
       "      <td>6.575</td>\n",
       "      <td>65.2</td>\n",
       "      <td>4.0900</td>\n",
       "      <td>1</td>\n",
       "      <td>296</td>\n",
       "      <td>15.3</td>\n",
       "      <td>396.90</td>\n",
       "      <td>4.98</td>\n",
       "      <td>24.0</td>\n",
       "    </tr>\n",
       "    <tr>\n",
       "      <th>1</th>\n",
       "      <td>0.02731</td>\n",
       "      <td>0.0</td>\n",
       "      <td>7.07</td>\n",
       "      <td>0</td>\n",
       "      <td>0.469</td>\n",
       "      <td>6.421</td>\n",
       "      <td>78.9</td>\n",
       "      <td>4.9671</td>\n",
       "      <td>2</td>\n",
       "      <td>242</td>\n",
       "      <td>17.8</td>\n",
       "      <td>396.90</td>\n",
       "      <td>9.14</td>\n",
       "      <td>21.6</td>\n",
       "    </tr>\n",
       "    <tr>\n",
       "      <th>2</th>\n",
       "      <td>0.02729</td>\n",
       "      <td>0.0</td>\n",
       "      <td>7.07</td>\n",
       "      <td>0</td>\n",
       "      <td>0.469</td>\n",
       "      <td>7.185</td>\n",
       "      <td>61.1</td>\n",
       "      <td>4.9671</td>\n",
       "      <td>2</td>\n",
       "      <td>242</td>\n",
       "      <td>17.8</td>\n",
       "      <td>392.83</td>\n",
       "      <td>4.03</td>\n",
       "      <td>34.7</td>\n",
       "    </tr>\n",
       "    <tr>\n",
       "      <th>3</th>\n",
       "      <td>0.03237</td>\n",
       "      <td>0.0</td>\n",
       "      <td>2.18</td>\n",
       "      <td>0</td>\n",
       "      <td>0.458</td>\n",
       "      <td>6.998</td>\n",
       "      <td>45.8</td>\n",
       "      <td>6.0622</td>\n",
       "      <td>3</td>\n",
       "      <td>222</td>\n",
       "      <td>18.7</td>\n",
       "      <td>394.63</td>\n",
       "      <td>2.94</td>\n",
       "      <td>33.4</td>\n",
       "    </tr>\n",
       "    <tr>\n",
       "      <th>4</th>\n",
       "      <td>0.06905</td>\n",
       "      <td>0.0</td>\n",
       "      <td>2.18</td>\n",
       "      <td>0</td>\n",
       "      <td>0.458</td>\n",
       "      <td>7.147</td>\n",
       "      <td>54.2</td>\n",
       "      <td>6.0622</td>\n",
       "      <td>3</td>\n",
       "      <td>222</td>\n",
       "      <td>18.7</td>\n",
       "      <td>396.90</td>\n",
       "      <td>5.33</td>\n",
       "      <td>36.2</td>\n",
       "    </tr>\n",
       "  </tbody>\n",
       "</table>\n",
       "</div>"
      ],
      "text/plain": [
       "      crim    zn  indus  chas    nox     rm   age     dis  rad  tax  ptratio  \\\n",
       "0  0.00632  18.0   2.31     0  0.538  6.575  65.2  4.0900    1  296     15.3   \n",
       "1  0.02731   0.0   7.07     0  0.469  6.421  78.9  4.9671    2  242     17.8   \n",
       "2  0.02729   0.0   7.07     0  0.469  7.185  61.1  4.9671    2  242     17.8   \n",
       "3  0.03237   0.0   2.18     0  0.458  6.998  45.8  6.0622    3  222     18.7   \n",
       "4  0.06905   0.0   2.18     0  0.458  7.147  54.2  6.0622    3  222     18.7   \n",
       "\n",
       "        b  lstat  medv  \n",
       "0  396.90   4.98  24.0  \n",
       "1  396.90   9.14  21.6  \n",
       "2  392.83   4.03  34.7  \n",
       "3  394.63   2.94  33.4  \n",
       "4  396.90   5.33  36.2  "
      ]
     },
     "execution_count": 3,
     "metadata": {},
     "output_type": "execute_result"
    }
   ],
   "source": [
    "boston_housing = pd.read_csv('datasets/boston_housing/BostonHousing.csv')\n",
    "boston_housing.head()"
   ]
  },
  {
   "cell_type": "code",
   "execution_count": 4,
   "id": "f067aad9-f833-48e1-b937-03ad126436a8",
   "metadata": {},
   "outputs": [
    {
     "name": "stdout",
     "output_type": "stream",
     "text": [
      "<class 'pandas.core.frame.DataFrame'>\n",
      "RangeIndex: 506 entries, 0 to 505\n",
      "Data columns (total 14 columns):\n",
      " #   Column   Non-Null Count  Dtype  \n",
      "---  ------   --------------  -----  \n",
      " 0   crim     506 non-null    float64\n",
      " 1   zn       506 non-null    float64\n",
      " 2   indus    506 non-null    float64\n",
      " 3   chas     506 non-null    int64  \n",
      " 4   nox      506 non-null    float64\n",
      " 5   rm       506 non-null    float64\n",
      " 6   age      506 non-null    float64\n",
      " 7   dis      506 non-null    float64\n",
      " 8   rad      506 non-null    int64  \n",
      " 9   tax      506 non-null    int64  \n",
      " 10  ptratio  506 non-null    float64\n",
      " 11  b        506 non-null    float64\n",
      " 12  lstat    506 non-null    float64\n",
      " 13  medv     506 non-null    float64\n",
      "dtypes: float64(11), int64(3)\n",
      "memory usage: 55.5 KB\n"
     ]
    }
   ],
   "source": [
    "boston_housing.info()"
   ]
  },
  {
   "cell_type": "code",
   "execution_count": 5,
   "id": "477dd9e9-2229-4123-a4a7-e9e8fe7a748b",
   "metadata": {},
   "outputs": [],
   "source": [
    "training_data_reg = boston_housing.sample(frac=0.7, random_state=1234)\n",
    "data_without_train_reg = boston_housing.drop(training_data_reg.index)\n",
    "validation_data_reg = data_without_train_reg.sample(frac=0.5, random_state=27)\n",
    "test_data_reg = data_without_train_reg.drop(validation_data_reg.index)"
   ]
  },
  {
   "cell_type": "code",
   "execution_count": 6,
   "id": "faed2859-ae6c-4a11-9123-6aad5867100e",
   "metadata": {},
   "outputs": [
    {
     "name": "stdout",
     "output_type": "stream",
     "text": [
      "Dataset split:\n",
      "training data: 354\n",
      "validation data: 76\n",
      "test data: 76\n"
     ]
    }
   ],
   "source": [
    "print(f'Dataset split:\\ntraining data: {(len(training_data_reg))}\\nvalidation data: {(len(validation_data_reg))}\\ntest data: {(len(test_data_reg))}')"
   ]
  },
  {
   "cell_type": "markdown",
   "id": "a75b8f54-ca66-4b51-b81f-384dff3b14c1",
   "metadata": {},
   "source": [
    "#### Features and Target preparation"
   ]
  },
  {
   "cell_type": "code",
   "execution_count": 7,
   "id": "edfaf0e2-73d1-49cb-8bb2-b28c20ab0314",
   "metadata": {},
   "outputs": [
    {
     "data": {
      "text/plain": [
       "64     33.0\n",
       "100    27.5\n",
       "400     5.6\n",
       "485    21.2\n",
       "454    14.9\n",
       "Name: medv, dtype: float64"
      ]
     },
     "execution_count": 7,
     "metadata": {},
     "output_type": "execute_result"
    }
   ],
   "source": [
    "# target training and validation\n",
    "                \n",
    "yreg = training_data_reg['medv'] # Target of training set\n",
    "yreg_val = validation_data_reg['medv'] # Target of validation set\n",
    "yreg.head()"
   ]
  },
  {
   "cell_type": "code",
   "execution_count": 8,
   "id": "b80fc34d-746f-4b41-bd17-1038f45f4b86",
   "metadata": {},
   "outputs": [
    {
     "data": {
      "text/html": [
       "<div>\n",
       "<style scoped>\n",
       "    .dataframe tbody tr th:only-of-type {\n",
       "        vertical-align: middle;\n",
       "    }\n",
       "\n",
       "    .dataframe tbody tr th {\n",
       "        vertical-align: top;\n",
       "    }\n",
       "\n",
       "    .dataframe thead th {\n",
       "        text-align: right;\n",
       "    }\n",
       "</style>\n",
       "<table border=\"1\" class=\"dataframe\">\n",
       "  <thead>\n",
       "    <tr style=\"text-align: right;\">\n",
       "      <th></th>\n",
       "      <th>crim</th>\n",
       "      <th>zn</th>\n",
       "      <th>indus</th>\n",
       "      <th>chas</th>\n",
       "      <th>nox</th>\n",
       "      <th>rm</th>\n",
       "      <th>age</th>\n",
       "      <th>dis</th>\n",
       "      <th>rad</th>\n",
       "      <th>tax</th>\n",
       "      <th>ptratio</th>\n",
       "      <th>b</th>\n",
       "      <th>lstat</th>\n",
       "    </tr>\n",
       "  </thead>\n",
       "  <tbody>\n",
       "    <tr>\n",
       "      <th>64</th>\n",
       "      <td>0.01951</td>\n",
       "      <td>17.5</td>\n",
       "      <td>1.38</td>\n",
       "      <td>0</td>\n",
       "      <td>0.4161</td>\n",
       "      <td>7.104</td>\n",
       "      <td>59.5</td>\n",
       "      <td>9.2229</td>\n",
       "      <td>3</td>\n",
       "      <td>216</td>\n",
       "      <td>18.6</td>\n",
       "      <td>393.24</td>\n",
       "      <td>8.05</td>\n",
       "    </tr>\n",
       "    <tr>\n",
       "      <th>100</th>\n",
       "      <td>0.14866</td>\n",
       "      <td>0.0</td>\n",
       "      <td>8.56</td>\n",
       "      <td>0</td>\n",
       "      <td>0.5200</td>\n",
       "      <td>6.727</td>\n",
       "      <td>79.9</td>\n",
       "      <td>2.7778</td>\n",
       "      <td>5</td>\n",
       "      <td>384</td>\n",
       "      <td>20.9</td>\n",
       "      <td>394.76</td>\n",
       "      <td>9.42</td>\n",
       "    </tr>\n",
       "    <tr>\n",
       "      <th>400</th>\n",
       "      <td>25.04610</td>\n",
       "      <td>0.0</td>\n",
       "      <td>18.10</td>\n",
       "      <td>0</td>\n",
       "      <td>0.6930</td>\n",
       "      <td>5.987</td>\n",
       "      <td>100.0</td>\n",
       "      <td>1.5888</td>\n",
       "      <td>24</td>\n",
       "      <td>666</td>\n",
       "      <td>20.2</td>\n",
       "      <td>396.90</td>\n",
       "      <td>26.77</td>\n",
       "    </tr>\n",
       "    <tr>\n",
       "      <th>485</th>\n",
       "      <td>3.67367</td>\n",
       "      <td>0.0</td>\n",
       "      <td>18.10</td>\n",
       "      <td>0</td>\n",
       "      <td>0.5830</td>\n",
       "      <td>6.312</td>\n",
       "      <td>51.9</td>\n",
       "      <td>3.9917</td>\n",
       "      <td>24</td>\n",
       "      <td>666</td>\n",
       "      <td>20.2</td>\n",
       "      <td>388.62</td>\n",
       "      <td>10.58</td>\n",
       "    </tr>\n",
       "    <tr>\n",
       "      <th>454</th>\n",
       "      <td>9.51363</td>\n",
       "      <td>0.0</td>\n",
       "      <td>18.10</td>\n",
       "      <td>0</td>\n",
       "      <td>0.7130</td>\n",
       "      <td>6.728</td>\n",
       "      <td>94.1</td>\n",
       "      <td>2.4961</td>\n",
       "      <td>24</td>\n",
       "      <td>666</td>\n",
       "      <td>20.2</td>\n",
       "      <td>6.68</td>\n",
       "      <td>18.71</td>\n",
       "    </tr>\n",
       "  </tbody>\n",
       "</table>\n",
       "</div>"
      ],
      "text/plain": [
       "         crim    zn  indus  chas     nox     rm    age     dis  rad  tax  \\\n",
       "64    0.01951  17.5   1.38     0  0.4161  7.104   59.5  9.2229    3  216   \n",
       "100   0.14866   0.0   8.56     0  0.5200  6.727   79.9  2.7778    5  384   \n",
       "400  25.04610   0.0  18.10     0  0.6930  5.987  100.0  1.5888   24  666   \n",
       "485   3.67367   0.0  18.10     0  0.5830  6.312   51.9  3.9917   24  666   \n",
       "454   9.51363   0.0  18.10     0  0.7130  6.728   94.1  2.4961   24  666   \n",
       "\n",
       "     ptratio       b  lstat  \n",
       "64      18.6  393.24   8.05  \n",
       "100     20.9  394.76   9.42  \n",
       "400     20.2  396.90  26.77  \n",
       "485     20.2  388.62  10.58  \n",
       "454     20.2    6.68  18.71  "
      ]
     },
     "execution_count": 8,
     "metadata": {},
     "output_type": "execute_result"
    }
   ],
   "source": [
    "# the features vector\n",
    "\n",
    "features_reg = ['crim', 'zn', 'indus', 'chas', 'nox', 'rm', 'age', 'dis', 'rad', 'tax', 'ptratio', 'b', 'lstat']\n",
    "\n",
    "Xreg = training_data_reg[features_reg]\n",
    "Xreg_val = validation_data_reg[features_reg]\n",
    "Xreg.head()"
   ]
  },
  {
   "cell_type": "markdown",
   "id": "e9254ad8-90c0-4d30-aa50-ea17f43efb54",
   "metadata": {},
   "source": [
    "### Apply Feature Selection"
   ]
  },
  {
   "cell_type": "code",
   "execution_count": 9,
   "id": "06b65446-4658-4554-8405-17b5ca98b900",
   "metadata": {},
   "outputs": [],
   "source": [
    "# f: features, num: numerical, cat: categorical\n",
    "\n",
    "from sklearn.linear_model import ElasticNet\n",
    "\n",
    "model_f_num = ElasticNet()\n",
    "model_f_num_cat = ElasticNet()\n",
    "model_f_all = ElasticNet()"
   ]
  },
  {
   "cell_type": "code",
   "execution_count": 10,
   "id": "26268813-9673-449a-948a-900cf05930c0",
   "metadata": {},
   "outputs": [
    {
     "data": {
      "text/plain": [
       "Index(['crim', 'zn', 'indus', 'nox', 'rm', 'age', 'dis', 'tax', 'ptratio', 'b',\n",
       "       'lstat'],\n",
       "      dtype='object')"
      ]
     },
     "execution_count": 10,
     "metadata": {},
     "output_type": "execute_result"
    }
   ],
   "source": [
    "# use pearson's on numerical features and ANOVA on categorical features to select the features\n",
    "\n",
    "X_num = Xreg.drop(['chas', 'rad'], axis='columns')\n",
    "X_num_val = Xreg_val.drop(['chas', 'rad'], axis='columns')\n",
    "X_num.columns"
   ]
  },
  {
   "cell_type": "markdown",
   "id": "ea188cde-d612-41e7-a05a-d4628fc3bc77",
   "metadata": {},
   "source": [
    "#### Numerical Feature Selection"
   ]
  },
  {
   "cell_type": "code",
   "execution_count": 11,
   "id": "f6bfcf73-93ce-4e93-ad49-bb8ceef93f63",
   "metadata": {},
   "outputs": [
    {
     "data": {
      "text/plain": [
       "crim        90.982427\n",
       "zn          52.151470\n",
       "indus      143.884044\n",
       "nox        100.149580\n",
       "rm         472.477717\n",
       "age         73.615827\n",
       "dis         30.801513\n",
       "tax        141.287811\n",
       "ptratio    164.906883\n",
       "b           52.488507\n",
       "lstat      460.118857\n",
       "dtype: float64"
      ]
     },
     "execution_count": 11,
     "metadata": {},
     "output_type": "execute_result"
    }
   ],
   "source": [
    "fs_num = SelectKBest(score_func=f_regression, k=3).fit(X_num, yreg)\n",
    "f_num = pd.Series(fs_num.scores_, index=X_num.columns)\n",
    "f_num"
   ]
  },
  {
   "cell_type": "code",
   "execution_count": 12,
   "id": "e720f4a3-d7a7-4c87-895c-062b9bb7bd47",
   "metadata": {},
   "outputs": [
    {
     "data": {
      "text/plain": [
       "<AxesSubplot:>"
      ]
     },
     "execution_count": 12,
     "metadata": {},
     "output_type": "execute_result"
    },
    {
     "data": {
      "image/png": "[encoded data removed]",
      "text/plain": [
       "<Figure size 640x480 with 1 Axes>"
      ]
     },
     "metadata": {},
     "output_type": "display_data"
    }
   ],
   "source": [
    "from matplotlib import pyplot\n",
    "\n",
    "f_num.plot(kind='bar')"
   ]
  },
  {
   "cell_type": "markdown",
   "id": "57615007-6752-4ad2-8acb-25b796e25b3b",
   "metadata": {},
   "source": [
    "#### Categorical Feature Selection"
   ]
  },
  {
   "cell_type": "code",
   "execution_count": 13,
   "id": "8ad9761f-0898-4c18-aee4-895fbb2e6f46",
   "metadata": {},
   "outputs": [
    {
     "data": {
      "text/plain": [
       "Index(['chas', 'rad'], dtype='object')"
      ]
     },
     "execution_count": 13,
     "metadata": {},
     "output_type": "execute_result"
    }
   ],
   "source": [
    "X_cat = Xreg[['chas', 'rad']]\n",
    "X_cat.columns"
   ]
  },
  {
   "cell_type": "code",
   "execution_count": 14,
   "id": "e500f45e-c1dc-411f-9c6c-e4b442e2bed2",
   "metadata": {},
   "outputs": [
    {
     "data": {
      "text/plain": [
       "chas    0.980847\n",
       "rad     2.000062\n",
       "dtype: float64"
      ]
     },
     "execution_count": 14,
     "metadata": {},
     "output_type": "execute_result"
    }
   ],
   "source": [
    "from sklearn.feature_selection import f_classif\n",
    "\n",
    "fs_cat = SelectKBest(score_func=f_classif, k=2).fit(X_cat, yreg)\n",
    "f_cat = pd.Series(fs_cat.scores_, index=X_cat.columns)\n",
    "f_cat"
   ]
  },
  {
   "cell_type": "code",
   "execution_count": 15,
   "id": "a9c7639a-dcbd-42af-bac5-fb2eb849dbae",
   "metadata": {},
   "outputs": [
    {
     "data": {
      "text/plain": [
       "<AxesSubplot:>"
      ]
     },
     "execution_count": 15,
     "metadata": {},
     "output_type": "execute_result"
    },
    {
     "data": {
      "image/png": "[encoded data removed]",
      "text/plain": [
       "<Figure size 640x480 with 1 Axes>"
      ]
     },
     "metadata": {},
     "output_type": "display_data"
    }
   ],
   "source": [
    "f_cat.plot(kind='bar')"
   ]
  },
  {
   "cell_type": "markdown",
   "id": "f3acc89f-aeef-4d7f-8ada-6800edde6b69",
   "metadata": {},
   "source": [
    "### Compare Models with Different Features"
   ]
  },
  {
   "cell_type": "markdown",
   "id": "7c26fa24-a095-41b5-9c66-fb47d325a431",
   "metadata": {},
   "source": [
    "#### Selected Numerical Features Only Model"
   ]
  },
  {
   "cell_type": "code",
   "execution_count": 16,
   "id": "e1269be6-9b96-412a-b8c3-4bd2a6807fa7",
   "metadata": {},
   "outputs": [
    {
     "data": {
      "text/html": [
       "<div>\n",
       "<style scoped>\n",
       "    .dataframe tbody tr th:only-of-type {\n",
       "        vertical-align: middle;\n",
       "    }\n",
       "\n",
       "    .dataframe tbody tr th {\n",
       "        vertical-align: top;\n",
       "    }\n",
       "\n",
       "    .dataframe thead th {\n",
       "        text-align: right;\n",
       "    }\n",
       "</style>\n",
       "<table border=\"1\" class=\"dataframe\">\n",
       "  <thead>\n",
       "    <tr style=\"text-align: right;\">\n",
       "      <th></th>\n",
       "      <th>rm</th>\n",
       "      <th>ptratio</th>\n",
       "      <th>lstat</th>\n",
       "    </tr>\n",
       "  </thead>\n",
       "  <tbody>\n",
       "    <tr>\n",
       "      <th>64</th>\n",
       "      <td>7.104</td>\n",
       "      <td>18.6</td>\n",
       "      <td>8.05</td>\n",
       "    </tr>\n",
       "    <tr>\n",
       "      <th>100</th>\n",
       "      <td>6.727</td>\n",
       "      <td>20.9</td>\n",
       "      <td>9.42</td>\n",
       "    </tr>\n",
       "  </tbody>\n",
       "</table>\n",
       "</div>"
      ],
      "text/plain": [
       "        rm  ptratio  lstat\n",
       "64   7.104     18.6   8.05\n",
       "100  6.727     20.9   9.42"
      ]
     },
     "execution_count": 16,
     "metadata": {},
     "output_type": "execute_result"
    }
   ],
   "source": [
    "# We extract the columns indexes from the support\n",
    "# Then selected the new features from the dataframe columns\n",
    "\n",
    "cols_idxs_num = fs_num.get_support(indices=True)\n",
    "new_features = X_num.iloc[:,cols_idxs_num].columns\n",
    "Xreg[new_features].head(2)"
   ]
  },
  {
   "cell_type": "code",
   "execution_count": 17,
   "id": "24013c0a-2d3d-42e7-8d83-5f18f8b9b276",
   "metadata": {},
   "outputs": [
    {
     "data": {
      "text/plain": [
       "0.46183922841139835"
      ]
     },
     "execution_count": 17,
     "metadata": {},
     "output_type": "execute_result"
    }
   ],
   "source": [
    "model_f_num.fit(Xreg[new_features], yreg)\n",
    "preds_num = model_f_num.predict(Xreg_val[new_features])\n",
    "r2_score(yreg_val, preds_num)"
   ]
  },
  {
   "cell_type": "markdown",
   "id": "97837012-ebec-4168-a4a7-f14a353c214c",
   "metadata": {},
   "source": [
    "#### Selected Numerical and Categorical Features Model"
   ]
  },
  {
   "cell_type": "code",
   "execution_count": 18,
   "id": "251cbe0c-dea3-4204-955f-ba02cb977835",
   "metadata": {},
   "outputs": [
    {
     "data": {
      "text/html": [
       "<div>\n",
       "<style scoped>\n",
       "    .dataframe tbody tr th:only-of-type {\n",
       "        vertical-align: middle;\n",
       "    }\n",
       "\n",
       "    .dataframe tbody tr th {\n",
       "        vertical-align: top;\n",
       "    }\n",
       "\n",
       "    .dataframe thead th {\n",
       "        text-align: right;\n",
       "    }\n",
       "</style>\n",
       "<table border=\"1\" class=\"dataframe\">\n",
       "  <thead>\n",
       "    <tr style=\"text-align: right;\">\n",
       "      <th></th>\n",
       "      <th>chas</th>\n",
       "      <th>lstat</th>\n",
       "      <th>ptratio</th>\n",
       "      <th>rad</th>\n",
       "      <th>rm</th>\n",
       "    </tr>\n",
       "  </thead>\n",
       "  <tbody>\n",
       "    <tr>\n",
       "      <th>64</th>\n",
       "      <td>0</td>\n",
       "      <td>8.05</td>\n",
       "      <td>18.6</td>\n",
       "      <td>3</td>\n",
       "      <td>7.104</td>\n",
       "    </tr>\n",
       "    <tr>\n",
       "      <th>100</th>\n",
       "      <td>0</td>\n",
       "      <td>9.42</td>\n",
       "      <td>20.9</td>\n",
       "      <td>5</td>\n",
       "      <td>6.727</td>\n",
       "    </tr>\n",
       "  </tbody>\n",
       "</table>\n",
       "</div>"
      ],
      "text/plain": [
       "     chas  lstat  ptratio  rad     rm\n",
       "64      0   8.05     18.6    3  7.104\n",
       "100     0   9.42     20.9    5  6.727"
      ]
     },
     "execution_count": 18,
     "metadata": {},
     "output_type": "execute_result"
    }
   ],
   "source": [
    "cols_idxs_num = fs_num.get_support(indices=True)\n",
    "cols_idxs_cat = fs_cat.get_support(indices=True)\n",
    "new_features_num = X_num.iloc[:,cols_idxs_num].columns\n",
    "new_features_cat = X_cat.iloc[:,cols_idxs_cat].columns\n",
    "new_features_num_cat = new_features_num.union(new_features_cat)\n",
    "Xreg[new_features_num_cat].head(2)"
   ]
  },
  {
   "cell_type": "code",
   "execution_count": 19,
   "id": "bc9995bb-76ba-4ea0-99dd-46e8ee59d0f9",
   "metadata": {},
   "outputs": [
    {
     "data": {
      "text/plain": [
       "0.4495520911741152"
      ]
     },
     "execution_count": 19,
     "metadata": {},
     "output_type": "execute_result"
    }
   ],
   "source": [
    "model_f_num_cat.fit(Xreg[new_features_num_cat], yreg)\n",
    "preds_num_cat = model_f_num_cat.predict(Xreg_val[new_features_num_cat])\n",
    "r2_score(yreg_val, preds_num_cat)"
   ]
  },
  {
   "cell_type": "markdown",
   "id": "a07af181-8cbc-4a9e-b8e2-3d2985b14400",
   "metadata": {},
   "source": [
    "#### All Features Model"
   ]
  },
  {
   "cell_type": "code",
   "execution_count": 20,
   "id": "25fcae06-bb03-45f0-a0a6-c833a50e0191",
   "metadata": {},
   "outputs": [
    {
     "data": {
      "text/plain": [
       "0.47673568102491004"
      ]
     },
     "execution_count": 20,
     "metadata": {},
     "output_type": "execute_result"
    }
   ],
   "source": [
    "model_f_all.fit(Xreg, yreg)\n",
    "preds_all = model_f_all.predict(Xreg_val)\n",
    "r2_score(yreg_val, preds_all)"
   ]
  },
  {
   "cell_type": "markdown",
   "id": "71888f9d-c2e8-4284-a716-2c4bc947b775",
   "metadata": {
    "jp-MarkdownHeadingCollapsed": true,
    "tags": []
   },
   "source": [
    "## Wrapper Method: RFE"
   ]
  },
  {
   "cell_type": "code",
   "execution_count": 21,
   "id": "57ea854c-6fb5-48d9-be18-b3b0122e3ccc",
   "metadata": {},
   "outputs": [],
   "source": [
    "from sklearn.linear_model import ElasticNet\n",
    "\n",
    "model_rfe = ElasticNet()\n",
    "model_f_all = ElasticNet()"
   ]
  },
  {
   "cell_type": "code",
   "execution_count": 22,
   "id": "e0ed7bdd-241d-4ddb-ad79-3621f1c0eef0",
   "metadata": {},
   "outputs": [
    {
     "data": {
      "text/plain": [
       "array([ 4,  5,  3, 11, 10,  1,  8,  2,  6,  7,  1,  9,  1])"
      ]
     },
     "execution_count": 22,
     "metadata": {},
     "output_type": "execute_result"
    }
   ],
   "source": [
    "from sklearn.feature_selection import RFE\n",
    "\n",
    "selector = RFE(model_rfe, n_features_to_select=3, step=1)\n",
    "selector = selector.fit(Xreg, yreg)\n",
    "selector.ranking_"
   ]
  },
  {
   "cell_type": "code",
   "execution_count": 23,
   "id": "190126d9-c9c7-477c-81b2-85a7e32beca0",
   "metadata": {},
   "outputs": [
    {
     "data": {
      "text/html": [
       "<div>\n",
       "<style scoped>\n",
       "    .dataframe tbody tr th:only-of-type {\n",
       "        vertical-align: middle;\n",
       "    }\n",
       "\n",
       "    .dataframe tbody tr th {\n",
       "        vertical-align: top;\n",
       "    }\n",
       "\n",
       "    .dataframe thead th {\n",
       "        text-align: right;\n",
       "    }\n",
       "</style>\n",
       "<table border=\"1\" class=\"dataframe\">\n",
       "  <thead>\n",
       "    <tr style=\"text-align: right;\">\n",
       "      <th></th>\n",
       "      <th>rm</th>\n",
       "      <th>ptratio</th>\n",
       "      <th>lstat</th>\n",
       "    </tr>\n",
       "  </thead>\n",
       "  <tbody>\n",
       "    <tr>\n",
       "      <th>64</th>\n",
       "      <td>7.104</td>\n",
       "      <td>18.6</td>\n",
       "      <td>8.05</td>\n",
       "    </tr>\n",
       "    <tr>\n",
       "      <th>100</th>\n",
       "      <td>6.727</td>\n",
       "      <td>20.9</td>\n",
       "      <td>9.42</td>\n",
       "    </tr>\n",
       "  </tbody>\n",
       "</table>\n",
       "</div>"
      ],
      "text/plain": [
       "        rm  ptratio  lstat\n",
       "64   7.104     18.6   8.05\n",
       "100  6.727     20.9   9.42"
      ]
     },
     "execution_count": 23,
     "metadata": {},
     "output_type": "execute_result"
    }
   ],
   "source": [
    "cols_idxs_rfe = selector.get_support(indices=True)\n",
    "new_features_rfe = Xreg.iloc[:,cols_idxs_rfe].columns\n",
    "Xreg[new_features_rfe].head(2)"
   ]
  },
  {
   "cell_type": "code",
   "execution_count": 24,
   "id": "70eff965-dfc9-43c6-a775-255147263667",
   "metadata": {},
   "outputs": [
    {
     "data": {
      "text/plain": [
       "0.46183922841139835"
      ]
     },
     "execution_count": 24,
     "metadata": {},
     "output_type": "execute_result"
    }
   ],
   "source": [
    "model_rfe.fit(Xreg[new_features_rfe], yreg)\n",
    "preds_rfe = model_rfe.predict(Xreg_val[new_features_rfe])\n",
    "r2_score(yreg_val, preds_rfe)"
   ]
  },
  {
   "cell_type": "code",
   "execution_count": 25,
   "id": "da271689-5ba8-4f80-8d40-d84c6b55aef4",
   "metadata": {},
   "outputs": [
    {
     "data": {
      "text/plain": [
       "0.47673568102491004"
      ]
     },
     "execution_count": 25,
     "metadata": {},
     "output_type": "execute_result"
    }
   ],
   "source": [
    "# all feature model\n",
    "\n",
    "model_f_all.fit(Xreg, yreg)\n",
    "preds = model_f_all.predict(Xreg_val)\n",
    "r2_score(yreg_val, preds)"
   ]
  },
  {
   "cell_type": "markdown",
   "id": "296bc2d9-6e31-4748-8a3c-d6b1c71295d6",
   "metadata": {
    "jp-MarkdownHeadingCollapsed": true,
    "tags": []
   },
   "source": [
    "## Intrinsic"
   ]
  },
  {
   "cell_type": "markdown",
   "id": "36eb16f3-ac46-4e0f-8191-3badb15c78bc",
   "metadata": {
    "tags": []
   },
   "source": [
    "### Random Forest Intrinsic Feature Selection"
   ]
  },
  {
   "cell_type": "code",
   "execution_count": 26,
   "id": "2a3ef2d3-e203-4a7a-a6d5-b54ccc982a45",
   "metadata": {},
   "outputs": [
    {
     "data": {
      "text/plain": [
       "0.6448838545857681"
      ]
     },
     "execution_count": 26,
     "metadata": {},
     "output_type": "execute_result"
    }
   ],
   "source": [
    "from sklearn.ensemble import RandomForestRegressor\n",
    "\n",
    "model_rf = RandomForestRegressor()\n",
    "model_rf.fit(Xreg, yreg)\n",
    "preds_rf = model_rf.predict(Xreg_val)\n",
    "r2_score(yreg_val, preds_rf)"
   ]
  },
  {
   "cell_type": "code",
   "execution_count": 27,
   "id": "02f5f93e-fe37-4693-8dab-f51a15de2dec",
   "metadata": {},
   "outputs": [
    {
     "data": {
      "text/plain": [
       "rm         0.569951\n",
       "lstat      0.261480\n",
       "crim       0.043369\n",
       "nox        0.027712\n",
       "dis        0.025127\n",
       "ptratio    0.016285\n",
       "tax        0.014849\n",
       "age        0.013811\n",
       "b          0.012010\n",
       "rad        0.008342\n",
       "indus      0.004987\n",
       "zn         0.001104\n",
       "chas       0.000974\n",
       "dtype: float64"
      ]
     },
     "execution_count": 27,
     "metadata": {},
     "output_type": "execute_result"
    }
   ],
   "source": [
    "features_importance = model_rf.feature_importances_\n",
    "features_importance = pd.Series(features_importance, index=Xreg.columns)\n",
    "features_importance.sort_values(ascending=False)"
   ]
  },
  {
   "cell_type": "code",
   "execution_count": 28,
   "id": "8095aa6b-e80d-4999-8b0e-54502417c068",
   "metadata": {},
   "outputs": [
    {
     "data": {
      "text/plain": [
       "<AxesSubplot:>"
      ]
     },
     "execution_count": 28,
     "metadata": {},
     "output_type": "execute_result"
    },
    {
     "data": {
      "image/png": "[encoded data removed]",
      "text/plain": [
       "<Figure size 640x480 with 1 Axes>"
      ]
     },
     "metadata": {},
     "output_type": "display_data"
    }
   ],
   "source": [
    "features_importance.plot(kind='bar')"
   ]
  },
  {
   "cell_type": "code",
   "execution_count": 29,
   "id": "e5cad2d7-76cb-4f11-a3aa-e68b8d82865a",
   "metadata": {},
   "outputs": [
    {
     "data": {
      "text/html": [
       "<div>\n",
       "<style scoped>\n",
       "    .dataframe tbody tr th:only-of-type {\n",
       "        vertical-align: middle;\n",
       "    }\n",
       "\n",
       "    .dataframe tbody tr th {\n",
       "        vertical-align: top;\n",
       "    }\n",
       "\n",
       "    .dataframe thead th {\n",
       "        text-align: right;\n",
       "    }\n",
       "</style>\n",
       "<table border=\"1\" class=\"dataframe\">\n",
       "  <thead>\n",
       "    <tr style=\"text-align: right;\">\n",
       "      <th></th>\n",
       "      <th>rm</th>\n",
       "      <th>lstat</th>\n",
       "      <th>crim</th>\n",
       "      <th>nox</th>\n",
       "      <th>dis</th>\n",
       "      <th>ptratio</th>\n",
       "    </tr>\n",
       "  </thead>\n",
       "  <tbody>\n",
       "    <tr>\n",
       "      <th>64</th>\n",
       "      <td>7.104</td>\n",
       "      <td>8.05</td>\n",
       "      <td>0.01951</td>\n",
       "      <td>0.4161</td>\n",
       "      <td>9.2229</td>\n",
       "      <td>18.6</td>\n",
       "    </tr>\n",
       "    <tr>\n",
       "      <th>100</th>\n",
       "      <td>6.727</td>\n",
       "      <td>9.42</td>\n",
       "      <td>0.14866</td>\n",
       "      <td>0.5200</td>\n",
       "      <td>2.7778</td>\n",
       "      <td>20.9</td>\n",
       "    </tr>\n",
       "  </tbody>\n",
       "</table>\n",
       "</div>"
      ],
      "text/plain": [
       "        rm  lstat     crim     nox     dis  ptratio\n",
       "64   7.104   8.05  0.01951  0.4161  9.2229     18.6\n",
       "100  6.727   9.42  0.14866  0.5200  2.7778     20.9"
      ]
     },
     "execution_count": 29,
     "metadata": {},
     "output_type": "execute_result"
    }
   ],
   "source": [
    "new_features = ['rm', 'lstat', 'crim', 'nox', 'dis', 'ptratio']\n",
    "\n",
    "X_new = training_data_reg[new_features]\n",
    "X_new_val = validation_data_reg[new_features]\n",
    "X_new.head(2)"
   ]
  },
  {
   "cell_type": "code",
   "execution_count": 30,
   "id": "c982fd02-7cae-402d-b205-c5c986d1dafc",
   "metadata": {},
   "outputs": [
    {
     "data": {
      "text/plain": [
       "0.6274129318055579"
      ]
     },
     "execution_count": 30,
     "metadata": {},
     "output_type": "execute_result"
    }
   ],
   "source": [
    "model_rf_new_features = RandomForestRegressor()\n",
    "model_rf_new_features.fit(X_new, yreg)\n",
    "preds_rf_new_features = model_rf_new_features.predict(X_new_val)\n",
    "r2_score(yreg_val, preds_rf_new_features)"
   ]
  },
  {
   "cell_type": "markdown",
   "id": "1ff5ff4a-f732-49e2-81db-f656b7979116",
   "metadata": {},
   "source": [
    "### Gradient Boosting Intrinsic Features Selection"
   ]
  },
  {
   "cell_type": "code",
   "execution_count": 31,
   "id": "3c375b30-7c69-4bff-8d37-119e60c7ae2a",
   "metadata": {},
   "outputs": [
    {
     "data": {
      "text/plain": [
       "0.6917926154610123"
      ]
     },
     "execution_count": 31,
     "metadata": {},
     "output_type": "execute_result"
    }
   ],
   "source": [
    "from sklearn.ensemble import GradientBoostingRegressor\n",
    "\n",
    "model_gb = GradientBoostingRegressor()\n",
    "model_gb.fit(Xreg, yreg)\n",
    "preds_gb = model_gb.predict(Xreg_val)\n",
    "r2_score(yreg_val, preds_gb)"
   ]
  },
  {
   "cell_type": "code",
   "execution_count": 32,
   "id": "4ba99302-9f2d-4ea1-8010-860ead63565b",
   "metadata": {},
   "outputs": [
    {
     "data": {
      "text/plain": [
       "rm         0.500353\n",
       "lstat      0.317490\n",
       "crim       0.043504\n",
       "ptratio    0.036402\n",
       "nox        0.030216\n",
       "dis        0.025474\n",
       "tax        0.017118\n",
       "age        0.015750\n",
       "b          0.008233\n",
       "rad        0.003022\n",
       "indus      0.001940\n",
       "chas       0.000267\n",
       "zn         0.000232\n",
       "dtype: float64"
      ]
     },
     "execution_count": 32,
     "metadata": {},
     "output_type": "execute_result"
    }
   ],
   "source": [
    "features_importance = model_gb.feature_importances_\n",
    "features_importance = pd.Series(features_importance, index=Xreg.columns)\n",
    "features_importance.sort_values(ascending=False)"
   ]
  },
  {
   "cell_type": "code",
   "execution_count": 33,
   "id": "a73f4443-0692-4e8f-a10c-5ccaa445aa1c",
   "metadata": {},
   "outputs": [
    {
     "data": {
      "text/plain": [
       "<AxesSubplot:>"
      ]
     },
     "execution_count": 33,
     "metadata": {},
     "output_type": "execute_result"
    },
    {
     "data": {
      "image/png": "[encoded data removed]",
      "text/plain": [
       "<Figure size 640x480 with 1 Axes>"
      ]
     },
     "metadata": {},
     "output_type": "display_data"
    }
   ],
   "source": [
    "features_importance.plot(kind='bar')"
   ]
  },
  {
   "cell_type": "code",
   "execution_count": 34,
   "id": "f64ae9c5-c1ab-4424-89e8-37dbab317058",
   "metadata": {},
   "outputs": [
    {
     "data": {
      "text/html": [
       "<div>\n",
       "<style scoped>\n",
       "    .dataframe tbody tr th:only-of-type {\n",
       "        vertical-align: middle;\n",
       "    }\n",
       "\n",
       "    .dataframe tbody tr th {\n",
       "        vertical-align: top;\n",
       "    }\n",
       "\n",
       "    .dataframe thead th {\n",
       "        text-align: right;\n",
       "    }\n",
       "</style>\n",
       "<table border=\"1\" class=\"dataframe\">\n",
       "  <thead>\n",
       "    <tr style=\"text-align: right;\">\n",
       "      <th></th>\n",
       "      <th>rm</th>\n",
       "      <th>lstat</th>\n",
       "      <th>crim</th>\n",
       "      <th>ptratio</th>\n",
       "      <th>nox</th>\n",
       "      <th>dis</th>\n",
       "    </tr>\n",
       "  </thead>\n",
       "  <tbody>\n",
       "    <tr>\n",
       "      <th>64</th>\n",
       "      <td>7.104</td>\n",
       "      <td>8.05</td>\n",
       "      <td>0.01951</td>\n",
       "      <td>18.6</td>\n",
       "      <td>0.4161</td>\n",
       "      <td>9.2229</td>\n",
       "    </tr>\n",
       "    <tr>\n",
       "      <th>100</th>\n",
       "      <td>6.727</td>\n",
       "      <td>9.42</td>\n",
       "      <td>0.14866</td>\n",
       "      <td>20.9</td>\n",
       "      <td>0.5200</td>\n",
       "      <td>2.7778</td>\n",
       "    </tr>\n",
       "  </tbody>\n",
       "</table>\n",
       "</div>"
      ],
      "text/plain": [
       "        rm  lstat     crim  ptratio     nox     dis\n",
       "64   7.104   8.05  0.01951     18.6  0.4161  9.2229\n",
       "100  6.727   9.42  0.14866     20.9  0.5200  2.7778"
      ]
     },
     "execution_count": 34,
     "metadata": {},
     "output_type": "execute_result"
    }
   ],
   "source": [
    "new_features = ['rm', 'lstat', 'crim', 'ptratio', 'nox', 'dis']\n",
    "\n",
    "X_new = training_data_reg[new_features]\n",
    "X_new_val = validation_data_reg[new_features]\n",
    "X_new.head(2)"
   ]
  },
  {
   "cell_type": "code",
   "execution_count": 35,
   "id": "410970f7-53ed-4a3d-b28d-44670ba34415",
   "metadata": {},
   "outputs": [
    {
     "data": {
      "text/plain": [
       "0.6557215811323427"
      ]
     },
     "execution_count": 35,
     "metadata": {},
     "output_type": "execute_result"
    }
   ],
   "source": [
    "model_gb_new_features = RandomForestRegressor()\n",
    "model_gb_new_features.fit(X_new, yreg)\n",
    "preds_gb_new_features = model_gb_new_features.predict(X_new_val)\n",
    "r2_score(yreg_val, preds_gb_new_features)"
   ]
  }
 ],
 "metadata": {
  "kernelspec": {
   "display_name": "Python 3 (ipykernel)",
   "language": "python",
   "name": "python3"
  },
  "language_info": {
   "codemirror_mode": {
    "name": "ipython",
    "version": 3
   },
   "file_extension": ".py",
   "mimetype": "text/x-python",
   "name": "python",
   "nbconvert_exporter": "python",
   "pygments_lexer": "ipython3",
   "version": "3.9.13"
  }
 },
 "nbformat": 4,
 "nbformat_minor": 5
}
