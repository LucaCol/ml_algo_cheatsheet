{
 "cells": [
  {
   "cell_type": "markdown",
   "id": "3846bda9-7ade-4510-b1a9-6be160119be3",
   "metadata": {
    "jp-MarkdownHeadingCollapsed": true,
    "tags": []
   },
   "source": [
    "# Imports and Datasets Preparations"
   ]
  },
  {
   "cell_type": "code",
   "execution_count": 1,
   "id": "47dd85b9-7814-4cf0-8f14-329f212ac5f2",
   "metadata": {},
   "outputs": [],
   "source": [
    "import pandas as pd\n",
    "import numpy as np\n",
    "from sklearn.metrics import accuracy_score, confusion_matrix, classification_report, r2_score, mean_squared_error\n",
    "from pprint import pprint"
   ]
  },
  {
   "cell_type": "markdown",
   "id": "6e6c4675-80ef-4de0-82d3-37654f843826",
   "metadata": {
    "tags": []
   },
   "source": [
    "## Titanic Dataset for Classification"
   ]
  },
  {
   "cell_type": "code",
   "execution_count": 2,
   "id": "0649ac32-941e-47d6-bbf6-127920b26723",
   "metadata": {},
   "outputs": [
    {
     "data": {
      "text/html": [
       "<div>\n",
       "<style scoped>\n",
       "    .dataframe tbody tr th:only-of-type {\n",
       "        vertical-align: middle;\n",
       "    }\n",
       "\n",
       "    .dataframe tbody tr th {\n",
       "        vertical-align: top;\n",
       "    }\n",
       "\n",
       "    .dataframe thead th {\n",
       "        text-align: right;\n",
       "    }\n",
       "</style>\n",
       "<table border=\"1\" class=\"dataframe\">\n",
       "  <thead>\n",
       "    <tr style=\"text-align: right;\">\n",
       "      <th></th>\n",
       "      <th>PassengerId</th>\n",
       "      <th>Survived</th>\n",
       "      <th>Pclass</th>\n",
       "      <th>Name</th>\n",
       "      <th>Sex</th>\n",
       "      <th>Age</th>\n",
       "      <th>SibSp</th>\n",
       "      <th>Parch</th>\n",
       "      <th>Ticket</th>\n",
       "      <th>Fare</th>\n",
       "      <th>Cabin</th>\n",
       "      <th>Embarked</th>\n",
       "    </tr>\n",
       "  </thead>\n",
       "  <tbody>\n",
       "    <tr>\n",
       "      <th>0</th>\n",
       "      <td>1</td>\n",
       "      <td>0</td>\n",
       "      <td>3</td>\n",
       "      <td>Braund, Mr. Owen Harris</td>\n",
       "      <td>male</td>\n",
       "      <td>22.0</td>\n",
       "      <td>1</td>\n",
       "      <td>0</td>\n",
       "      <td>A/5 21171</td>\n",
       "      <td>7.2500</td>\n",
       "      <td>NaN</td>\n",
       "      <td>S</td>\n",
       "    </tr>\n",
       "    <tr>\n",
       "      <th>1</th>\n",
       "      <td>2</td>\n",
       "      <td>1</td>\n",
       "      <td>1</td>\n",
       "      <td>Cumings, Mrs. John Bradley (Florence Briggs Th...</td>\n",
       "      <td>female</td>\n",
       "      <td>38.0</td>\n",
       "      <td>1</td>\n",
       "      <td>0</td>\n",
       "      <td>PC 17599</td>\n",
       "      <td>71.2833</td>\n",
       "      <td>C85</td>\n",
       "      <td>C</td>\n",
       "    </tr>\n",
       "    <tr>\n",
       "      <th>2</th>\n",
       "      <td>3</td>\n",
       "      <td>1</td>\n",
       "      <td>3</td>\n",
       "      <td>Heikkinen, Miss. Laina</td>\n",
       "      <td>female</td>\n",
       "      <td>26.0</td>\n",
       "      <td>0</td>\n",
       "      <td>0</td>\n",
       "      <td>STON/O2. 3101282</td>\n",
       "      <td>7.9250</td>\n",
       "      <td>NaN</td>\n",
       "      <td>S</td>\n",
       "    </tr>\n",
       "    <tr>\n",
       "      <th>3</th>\n",
       "      <td>4</td>\n",
       "      <td>1</td>\n",
       "      <td>1</td>\n",
       "      <td>Futrelle, Mrs. Jacques Heath (Lily May Peel)</td>\n",
       "      <td>female</td>\n",
       "      <td>35.0</td>\n",
       "      <td>1</td>\n",
       "      <td>0</td>\n",
       "      <td>113803</td>\n",
       "      <td>53.1000</td>\n",
       "      <td>C123</td>\n",
       "      <td>S</td>\n",
       "    </tr>\n",
       "    <tr>\n",
       "      <th>4</th>\n",
       "      <td>5</td>\n",
       "      <td>0</td>\n",
       "      <td>3</td>\n",
       "      <td>Allen, Mr. William Henry</td>\n",
       "      <td>male</td>\n",
       "      <td>35.0</td>\n",
       "      <td>0</td>\n",
       "      <td>0</td>\n",
       "      <td>373450</td>\n",
       "      <td>8.0500</td>\n",
       "      <td>NaN</td>\n",
       "      <td>S</td>\n",
       "    </tr>\n",
       "  </tbody>\n",
       "</table>\n",
       "</div>"
      ],
      "text/plain": [
       "   PassengerId  Survived  Pclass  \\\n",
       "0            1         0       3   \n",
       "1            2         1       1   \n",
       "2            3         1       3   \n",
       "3            4         1       1   \n",
       "4            5         0       3   \n",
       "\n",
       "                                                Name     Sex   Age  SibSp  \\\n",
       "0                            Braund, Mr. Owen Harris    male  22.0      1   \n",
       "1  Cumings, Mrs. John Bradley (Florence Briggs Th...  female  38.0      1   \n",
       "2                             Heikkinen, Miss. Laina  female  26.0      0   \n",
       "3       Futrelle, Mrs. Jacques Heath (Lily May Peel)  female  35.0      1   \n",
       "4                           Allen, Mr. William Henry    male  35.0      0   \n",
       "\n",
       "   Parch            Ticket     Fare Cabin Embarked  \n",
       "0      0         A/5 21171   7.2500   NaN        S  \n",
       "1      0          PC 17599  71.2833   C85        C  \n",
       "2      0  STON/O2. 3101282   7.9250   NaN        S  \n",
       "3      0            113803  53.1000  C123        S  \n",
       "4      0            373450   8.0500   NaN        S  "
      ]
     },
     "execution_count": 2,
     "metadata": {},
     "output_type": "execute_result"
    }
   ],
   "source": [
    "titanic_data = pd.read_csv('datasets/titanic/titanic_dataset.csv')\n",
    "titanic_data.head()"
   ]
  },
  {
   "cell_type": "code",
   "execution_count": 3,
   "id": "de3c0e2d-4c57-4635-9ed1-b34f0aab8214",
   "metadata": {},
   "outputs": [],
   "source": [
    "# split train, validation and test data: 70:15:15 division\n",
    "# use random seed to have always the same split if we make different analyses\n",
    "\n",
    "training_data_clas = titanic_data.sample(frac=0.7, random_state=1234)\n",
    "data_without_train_clas = titanic_data.drop(training_data_clas.index)\n",
    "validation_data_clas = data_without_train_clas.sample(frac=0.5, random_state=27)\n",
    "test_data_clas = data_without_train_clas.drop(validation_data_clas.index)"
   ]
  },
  {
   "cell_type": "code",
   "execution_count": 4,
   "id": "a4c26d6e-8b9b-4f4e-8329-ef24e86c65c4",
   "metadata": {},
   "outputs": [
    {
     "name": "stdout",
     "output_type": "stream",
     "text": [
      "Dataset split:\n",
      "training data: 624\n",
      "validation data: 134\n",
      "test data: 133\n"
     ]
    }
   ],
   "source": [
    "print(f'Dataset split:\\ntraining data: {(len(training_data_clas))}\\nvalidation data: {(len(validation_data_clas))}\\ntest data: {(len(test_data_clas))}')"
   ]
  },
  {
   "cell_type": "code",
   "execution_count": 5,
   "id": "7957ca14-0694-4729-bbe5-79a6d9473e3b",
   "metadata": {},
   "outputs": [
    {
     "data": {
      "text/plain": [
       "0.7358490566037735"
      ]
     },
     "execution_count": 5,
     "metadata": {},
     "output_type": "execute_result"
    }
   ],
   "source": [
    "# for curiosity check how many female and male survived\n",
    "\n",
    "woman = training_data_clas.loc[training_data_clas.Sex == 'female']['Survived'] # 1: survived, 0: died\n",
    "rate_woman_survived = sum(woman) / len(woman)\n",
    "rate_woman_survived"
   ]
  },
  {
   "cell_type": "code",
   "execution_count": 6,
   "id": "01cd5502-eaf7-4bec-9736-23b62f9c9808",
   "metadata": {},
   "outputs": [
    {
     "data": {
      "text/plain": [
       "0.19174757281553398"
      ]
     },
     "execution_count": 6,
     "metadata": {},
     "output_type": "execute_result"
    }
   ],
   "source": [
    "men = training_data_clas.loc[training_data_clas.Sex == 'male']['Survived']\n",
    "rate_men_survived = sum(men) / len(men)\n",
    "rate_men_survived"
   ]
  },
  {
   "cell_type": "markdown",
   "id": "958769b1-0312-4dda-b4ec-60e914f66816",
   "metadata": {
    "tags": []
   },
   "source": [
    "### Features and Target preparation"
   ]
  },
  {
   "cell_type": "code",
   "execution_count": 7,
   "id": "c60c0be2-8887-4ea2-bb13-2a167a609bdc",
   "metadata": {},
   "outputs": [
    {
     "data": {
      "text/plain": [
       "523    1\n",
       "778    0\n",
       "760    0\n",
       "496    1\n",
       "583    0\n",
       "Name: Survived, dtype: int64"
      ]
     },
     "execution_count": 7,
     "metadata": {},
     "output_type": "execute_result"
    }
   ],
   "source": [
    "# the prediction to learn\n",
    "                \n",
    "y = training_data_clas['Survived'] # Target of training set\n",
    "y_val = validation_data_clas['Survived'] # Target of validation set\n",
    "y.head()"
   ]
  },
  {
   "cell_type": "code",
   "execution_count": 8,
   "id": "56a91237-dd16-40f7-8128-c449ed310b88",
   "metadata": {},
   "outputs": [
    {
     "data": {
      "text/html": [
       "<div>\n",
       "<style scoped>\n",
       "    .dataframe tbody tr th:only-of-type {\n",
       "        vertical-align: middle;\n",
       "    }\n",
       "\n",
       "    .dataframe tbody tr th {\n",
       "        vertical-align: top;\n",
       "    }\n",
       "\n",
       "    .dataframe thead th {\n",
       "        text-align: right;\n",
       "    }\n",
       "</style>\n",
       "<table border=\"1\" class=\"dataframe\">\n",
       "  <thead>\n",
       "    <tr style=\"text-align: right;\">\n",
       "      <th></th>\n",
       "      <th>Pclass</th>\n",
       "      <th>SibSp</th>\n",
       "      <th>Parch</th>\n",
       "      <th>Sex_female</th>\n",
       "      <th>Sex_male</th>\n",
       "    </tr>\n",
       "  </thead>\n",
       "  <tbody>\n",
       "    <tr>\n",
       "      <th>523</th>\n",
       "      <td>1</td>\n",
       "      <td>0</td>\n",
       "      <td>1</td>\n",
       "      <td>1</td>\n",
       "      <td>0</td>\n",
       "    </tr>\n",
       "    <tr>\n",
       "      <th>778</th>\n",
       "      <td>3</td>\n",
       "      <td>0</td>\n",
       "      <td>0</td>\n",
       "      <td>0</td>\n",
       "      <td>1</td>\n",
       "    </tr>\n",
       "    <tr>\n",
       "      <th>760</th>\n",
       "      <td>3</td>\n",
       "      <td>0</td>\n",
       "      <td>0</td>\n",
       "      <td>0</td>\n",
       "      <td>1</td>\n",
       "    </tr>\n",
       "    <tr>\n",
       "      <th>496</th>\n",
       "      <td>1</td>\n",
       "      <td>1</td>\n",
       "      <td>0</td>\n",
       "      <td>1</td>\n",
       "      <td>0</td>\n",
       "    </tr>\n",
       "    <tr>\n",
       "      <th>583</th>\n",
       "      <td>1</td>\n",
       "      <td>0</td>\n",
       "      <td>0</td>\n",
       "      <td>0</td>\n",
       "      <td>1</td>\n",
       "    </tr>\n",
       "  </tbody>\n",
       "</table>\n",
       "</div>"
      ],
      "text/plain": [
       "     Pclass  SibSp  Parch  Sex_female  Sex_male\n",
       "523       1      0      1           1         0\n",
       "778       3      0      0           0         1\n",
       "760       3      0      0           0         1\n",
       "496       1      1      0           1         0\n",
       "583       1      0      0           0         1"
      ]
     },
     "execution_count": 8,
     "metadata": {},
     "output_type": "execute_result"
    }
   ],
   "source": [
    "# the features vector, where we create dummies values to be evaluated\n",
    "\n",
    "features = ['Pclass', 'Sex', 'SibSp', 'Parch']\n",
    "\n",
    "X = pd.get_dummies(training_data_clas[features])\n",
    "X_val = pd.get_dummies(validation_data_clas[features])\n",
    "X.head()"
   ]
  },
  {
   "cell_type": "markdown",
   "id": "232357ef-9d87-4129-93bc-32a6f3140da3",
   "metadata": {
    "tags": []
   },
   "source": [
    "## Boston Housing Dataset for Regression"
   ]
  },
  {
   "cell_type": "code",
   "execution_count": 9,
   "id": "27f2980d-8e07-481c-a3c1-aab33a8eaf8c",
   "metadata": {},
   "outputs": [
    {
     "data": {
      "text/html": [
       "<div>\n",
       "<style scoped>\n",
       "    .dataframe tbody tr th:only-of-type {\n",
       "        vertical-align: middle;\n",
       "    }\n",
       "\n",
       "    .dataframe tbody tr th {\n",
       "        vertical-align: top;\n",
       "    }\n",
       "\n",
       "    .dataframe thead th {\n",
       "        text-align: right;\n",
       "    }\n",
       "</style>\n",
       "<table border=\"1\" class=\"dataframe\">\n",
       "  <thead>\n",
       "    <tr style=\"text-align: right;\">\n",
       "      <th></th>\n",
       "      <th>crim</th>\n",
       "      <th>zn</th>\n",
       "      <th>indus</th>\n",
       "      <th>chas</th>\n",
       "      <th>nox</th>\n",
       "      <th>rm</th>\n",
       "      <th>age</th>\n",
       "      <th>dis</th>\n",
       "      <th>rad</th>\n",
       "      <th>tax</th>\n",
       "      <th>ptratio</th>\n",
       "      <th>b</th>\n",
       "      <th>lstat</th>\n",
       "      <th>medv</th>\n",
       "    </tr>\n",
       "  </thead>\n",
       "  <tbody>\n",
       "    <tr>\n",
       "      <th>0</th>\n",
       "      <td>0.00632</td>\n",
       "      <td>18.0</td>\n",
       "      <td>2.31</td>\n",
       "      <td>0</td>\n",
       "      <td>0.538</td>\n",
       "      <td>6.575</td>\n",
       "      <td>65.2</td>\n",
       "      <td>4.0900</td>\n",
       "      <td>1</td>\n",
       "      <td>296</td>\n",
       "      <td>15.3</td>\n",
       "      <td>396.90</td>\n",
       "      <td>4.98</td>\n",
       "      <td>24.0</td>\n",
       "    </tr>\n",
       "    <tr>\n",
       "      <th>1</th>\n",
       "      <td>0.02731</td>\n",
       "      <td>0.0</td>\n",
       "      <td>7.07</td>\n",
       "      <td>0</td>\n",
       "      <td>0.469</td>\n",
       "      <td>6.421</td>\n",
       "      <td>78.9</td>\n",
       "      <td>4.9671</td>\n",
       "      <td>2</td>\n",
       "      <td>242</td>\n",
       "      <td>17.8</td>\n",
       "      <td>396.90</td>\n",
       "      <td>9.14</td>\n",
       "      <td>21.6</td>\n",
       "    </tr>\n",
       "    <tr>\n",
       "      <th>2</th>\n",
       "      <td>0.02729</td>\n",
       "      <td>0.0</td>\n",
       "      <td>7.07</td>\n",
       "      <td>0</td>\n",
       "      <td>0.469</td>\n",
       "      <td>7.185</td>\n",
       "      <td>61.1</td>\n",
       "      <td>4.9671</td>\n",
       "      <td>2</td>\n",
       "      <td>242</td>\n",
       "      <td>17.8</td>\n",
       "      <td>392.83</td>\n",
       "      <td>4.03</td>\n",
       "      <td>34.7</td>\n",
       "    </tr>\n",
       "    <tr>\n",
       "      <th>3</th>\n",
       "      <td>0.03237</td>\n",
       "      <td>0.0</td>\n",
       "      <td>2.18</td>\n",
       "      <td>0</td>\n",
       "      <td>0.458</td>\n",
       "      <td>6.998</td>\n",
       "      <td>45.8</td>\n",
       "      <td>6.0622</td>\n",
       "      <td>3</td>\n",
       "      <td>222</td>\n",
       "      <td>18.7</td>\n",
       "      <td>394.63</td>\n",
       "      <td>2.94</td>\n",
       "      <td>33.4</td>\n",
       "    </tr>\n",
       "    <tr>\n",
       "      <th>4</th>\n",
       "      <td>0.06905</td>\n",
       "      <td>0.0</td>\n",
       "      <td>2.18</td>\n",
       "      <td>0</td>\n",
       "      <td>0.458</td>\n",
       "      <td>7.147</td>\n",
       "      <td>54.2</td>\n",
       "      <td>6.0622</td>\n",
       "      <td>3</td>\n",
       "      <td>222</td>\n",
       "      <td>18.7</td>\n",
       "      <td>396.90</td>\n",
       "      <td>5.33</td>\n",
       "      <td>36.2</td>\n",
       "    </tr>\n",
       "  </tbody>\n",
       "</table>\n",
       "</div>"
      ],
      "text/plain": [
       "      crim    zn  indus  chas    nox     rm   age     dis  rad  tax  ptratio  \\\n",
       "0  0.00632  18.0   2.31     0  0.538  6.575  65.2  4.0900    1  296     15.3   \n",
       "1  0.02731   0.0   7.07     0  0.469  6.421  78.9  4.9671    2  242     17.8   \n",
       "2  0.02729   0.0   7.07     0  0.469  7.185  61.1  4.9671    2  242     17.8   \n",
       "3  0.03237   0.0   2.18     0  0.458  6.998  45.8  6.0622    3  222     18.7   \n",
       "4  0.06905   0.0   2.18     0  0.458  7.147  54.2  6.0622    3  222     18.7   \n",
       "\n",
       "        b  lstat  medv  \n",
       "0  396.90   4.98  24.0  \n",
       "1  396.90   9.14  21.6  \n",
       "2  392.83   4.03  34.7  \n",
       "3  394.63   2.94  33.4  \n",
       "4  396.90   5.33  36.2  "
      ]
     },
     "execution_count": 9,
     "metadata": {},
     "output_type": "execute_result"
    }
   ],
   "source": [
    "boston_housing = pd.read_csv('datasets/boston_housing/BostonHousing.csv')\n",
    "boston_housing.head()"
   ]
  },
  {
   "cell_type": "code",
   "execution_count": 10,
   "id": "c9959cdc-7bbb-428d-a236-d6f4e70cb05e",
   "metadata": {},
   "outputs": [
    {
     "name": "stdout",
     "output_type": "stream",
     "text": [
      "<class 'pandas.core.frame.DataFrame'>\n",
      "RangeIndex: 506 entries, 0 to 505\n",
      "Data columns (total 14 columns):\n",
      " #   Column   Non-Null Count  Dtype  \n",
      "---  ------   --------------  -----  \n",
      " 0   crim     506 non-null    float64\n",
      " 1   zn       506 non-null    float64\n",
      " 2   indus    506 non-null    float64\n",
      " 3   chas     506 non-null    int64  \n",
      " 4   nox      506 non-null    float64\n",
      " 5   rm       506 non-null    float64\n",
      " 6   age      506 non-null    float64\n",
      " 7   dis      506 non-null    float64\n",
      " 8   rad      506 non-null    int64  \n",
      " 9   tax      506 non-null    int64  \n",
      " 10  ptratio  506 non-null    float64\n",
      " 11  b        506 non-null    float64\n",
      " 12  lstat    506 non-null    float64\n",
      " 13  medv     506 non-null    float64\n",
      "dtypes: float64(11), int64(3)\n",
      "memory usage: 55.5 KB\n"
     ]
    }
   ],
   "source": [
    "boston_housing.info()"
   ]
  },
  {
   "cell_type": "code",
   "execution_count": 11,
   "id": "12293bb2-4ebb-48df-b760-582cbdc96a01",
   "metadata": {},
   "outputs": [],
   "source": [
    "training_data_reg = boston_housing.sample(frac=0.7, random_state=1234)\n",
    "data_without_train_reg = boston_housing.drop(training_data_reg.index)\n",
    "validation_data_reg = data_without_train_reg.sample(frac=0.5, random_state=27)\n",
    "test_data_reg = data_without_train_reg.drop(validation_data_reg.index)"
   ]
  },
  {
   "cell_type": "code",
   "execution_count": 12,
   "id": "e3c43cdf-31c8-4fcd-bca4-43be54973d6a",
   "metadata": {},
   "outputs": [
    {
     "name": "stdout",
     "output_type": "stream",
     "text": [
      "Dataset split:\n",
      "training data: 354\n",
      "validation data: 76\n",
      "test data: 76\n"
     ]
    }
   ],
   "source": [
    "print(f'Dataset split:\\ntraining data: {(len(training_data_reg))}\\nvalidation data: {(len(validation_data_reg))}\\ntest data: {(len(test_data_reg))}')"
   ]
  },
  {
   "cell_type": "markdown",
   "id": "5cc2a315-20f6-40d2-ad34-0dcaaab71a6c",
   "metadata": {},
   "source": [
    "### Features and Target preparation"
   ]
  },
  {
   "cell_type": "code",
   "execution_count": 13,
   "id": "360b6bf8-aa7a-4fcc-8c0b-2e443b5e516f",
   "metadata": {},
   "outputs": [
    {
     "data": {
      "text/plain": [
       "64     33.0\n",
       "100    27.5\n",
       "400     5.6\n",
       "485    21.2\n",
       "454    14.9\n",
       "Name: medv, dtype: float64"
      ]
     },
     "execution_count": 13,
     "metadata": {},
     "output_type": "execute_result"
    }
   ],
   "source": [
    "# target training and validation\n",
    "                \n",
    "yreg = training_data_reg['medv'] # Target of training set\n",
    "yreg_val = validation_data_reg['medv'] # Target of validation set\n",
    "yreg.head()"
   ]
  },
  {
   "cell_type": "code",
   "execution_count": 14,
   "id": "0c6d6b31-4607-472b-804f-5cd53bedd9b6",
   "metadata": {},
   "outputs": [
    {
     "data": {
      "text/html": [
       "<div>\n",
       "<style scoped>\n",
       "    .dataframe tbody tr th:only-of-type {\n",
       "        vertical-align: middle;\n",
       "    }\n",
       "\n",
       "    .dataframe tbody tr th {\n",
       "        vertical-align: top;\n",
       "    }\n",
       "\n",
       "    .dataframe thead th {\n",
       "        text-align: right;\n",
       "    }\n",
       "</style>\n",
       "<table border=\"1\" class=\"dataframe\">\n",
       "  <thead>\n",
       "    <tr style=\"text-align: right;\">\n",
       "      <th></th>\n",
       "      <th>crim</th>\n",
       "      <th>zn</th>\n",
       "      <th>indus</th>\n",
       "      <th>chas</th>\n",
       "      <th>nox</th>\n",
       "      <th>rm</th>\n",
       "      <th>age</th>\n",
       "      <th>dis</th>\n",
       "      <th>rad</th>\n",
       "      <th>tax</th>\n",
       "      <th>ptratio</th>\n",
       "      <th>b</th>\n",
       "      <th>lstat</th>\n",
       "    </tr>\n",
       "  </thead>\n",
       "  <tbody>\n",
       "    <tr>\n",
       "      <th>64</th>\n",
       "      <td>0.01951</td>\n",
       "      <td>17.5</td>\n",
       "      <td>1.38</td>\n",
       "      <td>0</td>\n",
       "      <td>0.4161</td>\n",
       "      <td>7.104</td>\n",
       "      <td>59.5</td>\n",
       "      <td>9.2229</td>\n",
       "      <td>3</td>\n",
       "      <td>216</td>\n",
       "      <td>18.6</td>\n",
       "      <td>393.24</td>\n",
       "      <td>8.05</td>\n",
       "    </tr>\n",
       "    <tr>\n",
       "      <th>100</th>\n",
       "      <td>0.14866</td>\n",
       "      <td>0.0</td>\n",
       "      <td>8.56</td>\n",
       "      <td>0</td>\n",
       "      <td>0.5200</td>\n",
       "      <td>6.727</td>\n",
       "      <td>79.9</td>\n",
       "      <td>2.7778</td>\n",
       "      <td>5</td>\n",
       "      <td>384</td>\n",
       "      <td>20.9</td>\n",
       "      <td>394.76</td>\n",
       "      <td>9.42</td>\n",
       "    </tr>\n",
       "    <tr>\n",
       "      <th>400</th>\n",
       "      <td>25.04610</td>\n",
       "      <td>0.0</td>\n",
       "      <td>18.10</td>\n",
       "      <td>0</td>\n",
       "      <td>0.6930</td>\n",
       "      <td>5.987</td>\n",
       "      <td>100.0</td>\n",
       "      <td>1.5888</td>\n",
       "      <td>24</td>\n",
       "      <td>666</td>\n",
       "      <td>20.2</td>\n",
       "      <td>396.90</td>\n",
       "      <td>26.77</td>\n",
       "    </tr>\n",
       "    <tr>\n",
       "      <th>485</th>\n",
       "      <td>3.67367</td>\n",
       "      <td>0.0</td>\n",
       "      <td>18.10</td>\n",
       "      <td>0</td>\n",
       "      <td>0.5830</td>\n",
       "      <td>6.312</td>\n",
       "      <td>51.9</td>\n",
       "      <td>3.9917</td>\n",
       "      <td>24</td>\n",
       "      <td>666</td>\n",
       "      <td>20.2</td>\n",
       "      <td>388.62</td>\n",
       "      <td>10.58</td>\n",
       "    </tr>\n",
       "    <tr>\n",
       "      <th>454</th>\n",
       "      <td>9.51363</td>\n",
       "      <td>0.0</td>\n",
       "      <td>18.10</td>\n",
       "      <td>0</td>\n",
       "      <td>0.7130</td>\n",
       "      <td>6.728</td>\n",
       "      <td>94.1</td>\n",
       "      <td>2.4961</td>\n",
       "      <td>24</td>\n",
       "      <td>666</td>\n",
       "      <td>20.2</td>\n",
       "      <td>6.68</td>\n",
       "      <td>18.71</td>\n",
       "    </tr>\n",
       "  </tbody>\n",
       "</table>\n",
       "</div>"
      ],
      "text/plain": [
       "         crim    zn  indus  chas     nox     rm    age     dis  rad  tax  \\\n",
       "64    0.01951  17.5   1.38     0  0.4161  7.104   59.5  9.2229    3  216   \n",
       "100   0.14866   0.0   8.56     0  0.5200  6.727   79.9  2.7778    5  384   \n",
       "400  25.04610   0.0  18.10     0  0.6930  5.987  100.0  1.5888   24  666   \n",
       "485   3.67367   0.0  18.10     0  0.5830  6.312   51.9  3.9917   24  666   \n",
       "454   9.51363   0.0  18.10     0  0.7130  6.728   94.1  2.4961   24  666   \n",
       "\n",
       "     ptratio       b  lstat  \n",
       "64      18.6  393.24   8.05  \n",
       "100     20.9  394.76   9.42  \n",
       "400     20.2  396.90  26.77  \n",
       "485     20.2  388.62  10.58  \n",
       "454     20.2    6.68  18.71  "
      ]
     },
     "execution_count": 14,
     "metadata": {},
     "output_type": "execute_result"
    }
   ],
   "source": [
    "# the features vector\n",
    "\n",
    "features_reg = ['crim', 'zn', 'indus', 'chas', 'nox', 'rm', 'age', 'dis', 'rad', 'tax', 'ptratio', 'b', 'lstat']\n",
    "\n",
    "Xreg = training_data_reg[features_reg]\n",
    "Xreg_val = validation_data_reg[features_reg]\n",
    "Xreg.head()"
   ]
  },
  {
   "cell_type": "markdown",
   "id": "7b14c9f4-8976-4826-9979-c18fdccce5db",
   "metadata": {
    "jp-MarkdownHeadingCollapsed": true,
    "tags": []
   },
   "source": [
    "# SVM (Support Vector Machine)"
   ]
  },
  {
   "cell_type": "markdown",
   "id": "374d6545-d150-4f1a-8e09-eea226df6ee6",
   "metadata": {},
   "source": [
    "Support vector machines (SVMs) are a set of supervised learning methods used for classification, regression and outliers detection.\n",
    "<br>\n",
    "The objective of the SVM algorithm is to find a hyperplane in an N-dimensional space (where N is the number of features) that distinctly classifies the data.\n",
    "<br>\n",
    "For simplicity, we consider an example with 2 classes:\n",
    "<center><img src=\"images/svm/classes.png\" width=\"350\" center=/></center>\n",
    "As we can see we should split this two classes with many different hyperplanes, what do we choose?\n",
    "<center><img src=\"images/svm/hyperplanes.png\" width=\"350\" center=/></center>\n",
    "SVM works by searching for the hyperplane which maximizes the margin or the largest $\\gamma$ such that:\n",
    "$$\n",
    "\\forall{i,y_i}(wx_i + b) >= \\gamma\n",
    "$$\n",
    "<center><img src=\"images/svm/optimization.png\" width=\"350\" center=/></center>\n",
    "The support vectors are the data points that are closer to the hyperplane and influence the position and orientation of this one. In addition we can using only these support vectors to classify our new points instead of all the dataset. Using this techniques guaranteed a more robust classifier."
   ]
  },
  {
   "cell_type": "markdown",
   "id": "9dc32a1b-9952-46ab-877a-5c4e94ddc945",
   "metadata": {},
   "source": [
    "The advantages of support vector machines are:\n",
    "- Effective in high dimensional spaces.\n",
    "- Still effective in cases where number of dimensions is greater than the number of samples.\n",
    "- Uses a subset of training points in the decision function (called support vectors), so it is also memory efficient.\n",
    "- Versatile: different Kernel functions can be specified for the decision function. Common kernels are provided, but it is also possible to specify custom kernels.\n",
    "\n",
    "The disadvantages of support vector machines include:\n",
    "- If the number of features is much greater than the number of samples, avoid over-fitting in choosing Kernel functions and regularization term is crucial.\n",
    "- SVMs do not directly provide probability estimates, these are calculated using an expensive five-fold cross-validation (see Scores and probabilities, below)."
   ]
  },
  {
   "cell_type": "markdown",
   "id": "6043ff1c-e51a-4965-8e0b-6012e8578e94",
   "metadata": {},
   "source": [
    "## Classification"
   ]
  },
  {
   "cell_type": "code",
   "execution_count": 24,
   "id": "85852208-95d8-4f3e-992f-29e0c9394ee2",
   "metadata": {},
   "outputs": [
    {
     "name": "stdout",
     "output_type": "stream",
     "text": [
      "{'C': 1.0,\n",
      " 'break_ties': False,\n",
      " 'cache_size': 200,\n",
      " 'class_weight': None,\n",
      " 'coef0': 0.0,\n",
      " 'decision_function_shape': 'ovr',\n",
      " 'degree': 3,\n",
      " 'gamma': 'scale',\n",
      " 'kernel': 'rbf',\n",
      " 'max_iter': -1,\n",
      " 'probability': False,\n",
      " 'random_state': None,\n",
      " 'shrinking': True,\n",
      " 'tol': 0.001,\n",
      " 'verbose': False}\n"
     ]
    }
   ],
   "source": [
    "# in our dataset we will be using SCV which is a specific type of SVM which is used with classification application\n",
    "\n",
    "from sklearn.svm import SVC\n",
    "\n",
    "svc_model = SVC()\n",
    "pprint(svc_model.get_params())"
   ]
  },
  {
   "cell_type": "markdown",
   "id": "9956f4d6-6736-4045-87b8-74eeb88d0557",
   "metadata": {},
   "source": [
    "### Main Parameters"
   ]
  },
  {
   "cell_type": "markdown",
   "id": "2a8d5149-0c43-4960-8128-78e51ebc13d5",
   "metadata": {},
   "source": [
    "the main parameters for SVC are:\n",
    "\n",
    "- kernel: it selects the type of hyperplane used to separate the data\n",
    "    - linear: a linear hyperplane\n",
    "    - rfb: a non-linear hyperplane\n",
    "    - poly: a non-linear hyperplane\n",
    "    - sigmoid\n",
    "- gamma: a parameter for non linear hyperplanes, higher the value more tries to fit the training data (risk overfitting)\n",
    "- C: regularization parameter, the penalty is a squared l2 penalty (higher more regularization, risk underfitting)\n",
    "- degree: parameter for poly kernel, we can choose the degree of the polynomial used for the hyperplane (using =1 is the same of use linear kernel, greater it fits more the training data)"
   ]
  },
  {
   "cell_type": "code",
   "execution_count": 25,
   "id": "3fc20bc2-ca51-48d0-bf8c-88632e419c03",
   "metadata": {},
   "outputs": [
    {
     "name": "stdout",
     "output_type": "stream",
     "text": [
      "              precision    recall  f1-score   support\n",
      "\n",
      "           0       0.86      0.79      0.82        85\n",
      "           1       0.68      0.78      0.72        49\n",
      "\n",
      "    accuracy                           0.78       134\n",
      "   macro avg       0.77      0.78      0.77       134\n",
      "weighted avg       0.79      0.78      0.79       134\n",
      "\n"
     ]
    }
   ],
   "source": [
    "svc_model.fit(X, y)\n",
    "svc_preds = svc_model.predict(X_val)\n",
    "#accuracy_score(svc_preds, y_val)\n",
    "print(classification_report(svc_preds, y_val))"
   ]
  },
  {
   "cell_type": "markdown",
   "id": "94e9cc7e-af8d-48f8-aa47-b577bb78dfb2",
   "metadata": {},
   "source": [
    "## Regression"
   ]
  },
  {
   "cell_type": "code",
   "execution_count": 26,
   "id": "9c5e10d2-42f1-48b8-8782-14d70da3a40e",
   "metadata": {},
   "outputs": [
    {
     "name": "stdout",
     "output_type": "stream",
     "text": [
      "{'C': 1.0,\n",
      " 'cache_size': 200,\n",
      " 'coef0': 0.0,\n",
      " 'degree': 3,\n",
      " 'epsilon': 0.1,\n",
      " 'gamma': 'scale',\n",
      " 'kernel': 'rbf',\n",
      " 'max_iter': -1,\n",
      " 'shrinking': True,\n",
      " 'tol': 0.001,\n",
      " 'verbose': False}\n"
     ]
    }
   ],
   "source": [
    "# parameter analysis is very similar to that done previously for the classification model\n",
    "\n",
    "from sklearn.svm import SVR\n",
    "\n",
    "svmreg_model = SVR()\n",
    "pprint(svmreg_model.get_params())"
   ]
  },
  {
   "cell_type": "code",
   "execution_count": 27,
   "id": "dbcaa340-3b79-4d22-9ae0-387171b6005c",
   "metadata": {},
   "outputs": [
    {
     "data": {
      "text/plain": [
       "0.13530293450130937"
      ]
     },
     "execution_count": 27,
     "metadata": {},
     "output_type": "execute_result"
    }
   ],
   "source": [
    "svmreg_model.fit(Xreg, yreg)\n",
    "svmreg_preds = svmreg_model.predict(Xreg_val)\n",
    "r2_score(yreg_val, svmreg_preds)"
   ]
  }
 ],
 "metadata": {
  "kernelspec": {
   "display_name": "Python 3 (ipykernel)",
   "language": "python",
   "name": "python3"
  },
  "language_info": {
   "codemirror_mode": {
    "name": "ipython",
    "version": 3
   },
   "file_extension": ".py",
   "mimetype": "text/x-python",
   "name": "python",
   "nbconvert_exporter": "python",
   "pygments_lexer": "ipython3",
   "version": "3.9.13"
  }
 },
 "nbformat": 4,
 "nbformat_minor": 5
}
